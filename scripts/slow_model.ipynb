{
 "cells": [
  {
   "cell_type": "code",
   "execution_count": 1,
   "id": "7f8e033d",
   "metadata": {},
   "outputs": [],
   "source": [
    "import lzma\n",
    "import pickle\n",
    "\n",
    "import torch\n",
    "from torch import nn\n",
    "from torch import optim\n",
    "from torch.utils.data import DataLoader\n",
    "import pandas as pd\n",
    "import numpy as np\n",
    "\n",
    "from sklearn.model_selection import train_test_split\n",
    "\n",
    "from neural_network import NeuralNetwork"
   ]
  },
  {
   "cell_type": "code",
   "execution_count": 2,
   "id": "c0078d8d",
   "metadata": {},
   "outputs": [
    {
     "name": "stdout",
     "output_type": "stream",
     "text": [
      "Using cpu device\n"
     ]
    }
   ],
   "source": [
    "device = torch.accelerator.current_accelerator().type if torch.accelerator.is_available() else \"cpu\"\n",
    "print(f\"Using {device} device\")"
   ]
  },
  {
   "cell_type": "code",
   "execution_count": 3,
   "id": "8156a6ae",
   "metadata": {},
   "outputs": [],
   "source": [
    "import glob\n",
    "\n",
    "RECORD_COUNT = len(glob.glob(\"../record_*\")) "
   ]
  },
  {
   "cell_type": "markdown",
   "id": "03f30da0",
   "metadata": {},
   "source": [
    "# Load and preprocess your collected data\n"
   ]
  },
  {
   "cell_type": "code",
   "execution_count": 4,
   "id": "fe6b16b6",
   "metadata": {},
   "outputs": [
    {
     "name": "stdout",
     "output_type": "stream",
     "text": [
      "package_folder: /home/nathan/projects/RallyRobotPilot_2025/.venv/lib/python3.13/site-packages/ursina\n",
      "asset_folder: /home/nathan/projects/RallyRobotPilot_2025/.venv/lib/python3.13/site-packages\n"
     ]
    },
    {
     "name": "stderr",
     "output_type": "stream",
     "text": [
      "which: no blender in (/home/nathan/projects/RallyRobotPilot_2025/.venv/bin:/home/nathan/.rvm/gems/ruby-3.3.8/bin:/home/nathan/.rvm/gems/ruby-3.3.8@global/bin:/home/nathan/.rvm/rubies/ruby-3.3.8/bin:/usr/local/bin:/usr/bin:/bin:/usr/local/sbin:/usr/lib/jvm/default/bin:/usr/bin/site_perl:/usr/bin/vendor_perl:/usr/bin/core_perl:/home/nathan/.rvm/bin)\n"
     ]
    },
    {
     "name": "stdout",
     "output_type": "stream",
     "text": [
      "record_0 average speed: 37.4117920554004\n",
      "record_1 average speed: 40.77769929909509\n",
      "record_2 average speed: 41.30762935273441\n",
      "record_3 average speed: 40.1125858757231\n",
      "record_4 average speed: 38.769415028717205\n",
      "record_5 average speed: 37.461681267389885\n",
      "record_6 average speed: 40.32858584030815\n",
      "record_7 average speed: 39.806681031603446\n",
      "record_8 average speed: 41.6986648238131\n",
      "record_9 average speed: 41.80501332617643\n",
      "record_10 average speed: 39.59026164436772\n",
      "Skipping record_11.npz - file not found\n",
      "record_12 average speed: 21.02368163925553\n",
      "record_13 average speed: 27.55777011326381\n",
      "record_14 average speed: 25.556715274889637\n",
      "Skipping record_15.npz - file not found\n",
      "record_16 average speed: 29.942989423589886\n",
      "record_17 average speed: 33.123524926258966\n"
     ]
    }
   ],
   "source": [
    "from statistics import mean\n",
    "\n",
    "snapshots = []\n",
    "\n",
    "for i in range(RECORD_COUNT):\n",
    "    try:\n",
    "        with lzma.open(f\"../record_{i}.npz\", \"rb\") as file:\n",
    "            data = pickle.load(file)\n",
    "            avg_speed = mean([d.car_speed for d in data])\n",
    "            print(f\"record_{i} average speed: {avg_speed}\")\n",
    "            if avg_speed <= 30:\n",
    "                snapshots = snapshots + data\n",
    "    except FileNotFoundError:\n",
    "        print(f\"Skipping record_{i}.npz - file not found\")\n",
    "    except Exception as e:\n",
    "        print(f\"Error processing record_{i}.npz: {e}\")\n",
    "        continue"
   ]
  },
  {
   "cell_type": "code",
   "execution_count": 7,
   "id": "a844d056",
   "metadata": {},
   "outputs": [],
   "source": [
    "X_scalar_list = [\n",
    "    [s.car_speed, *s.raycast_distances]\n",
    "    for s in snapshots\n",
    "]\n",
    "\n",
    "# 2. Create the list of labels (y). The original list comprehension was a bit complex.\n",
    "y_list = [s.current_controls for s in snapshots]\n",
    "\n",
    "# 3. Convert all lists to NumPy arrays with a specific data type\n",
    "features = np.array(X_scalar_list, dtype=np.float32)\n",
    "labels = np.array(y_list, dtype=np.float32)\n",
    "\n",
    "X_train, X_test, y_train, y_test = train_test_split(features, labels, test_size=0.2, random_state=42)"
   ]
  },
  {
   "cell_type": "markdown",
   "id": "8851a1ed",
   "metadata": {},
   "source": [
    "# Define your neural network model\n"
   ]
  },
  {
   "cell_type": "code",
   "execution_count": 8,
   "id": "5203adb9",
   "metadata": {},
   "outputs": [
    {
     "data": {
      "text/plain": [
       "NeuralNetwork(\n",
       "  (flatten): Flatten(start_dim=1, end_dim=-1)\n",
       "  (linear_relu_stack): Sequential(\n",
       "    (0): Linear(in_features=16, out_features=64, bias=True)\n",
       "    (1): ReLU()\n",
       "    (2): Linear(in_features=64, out_features=32, bias=True)\n",
       "    (3): ReLU()\n",
       "    (4): Linear(in_features=32, out_features=4, bias=True)\n",
       "    (5): Sigmoid()\n",
       "  )\n",
       ")"
      ]
     },
     "execution_count": 8,
     "metadata": {},
     "output_type": "execute_result"
    }
   ],
   "source": [
    "model = NeuralNetwork().to(device)\n",
    "model"
   ]
  },
  {
   "cell_type": "markdown",
   "id": "7a2490f8",
   "metadata": {},
   "source": [
    "# Set up training loop with loss function and optimizer"
   ]
  },
  {
   "cell_type": "code",
   "execution_count": 9,
   "id": "e919a70d",
   "metadata": {},
   "outputs": [],
   "source": [
    "criterion = nn.BCELoss()\n",
    "optimizer = torch.optim.SGD(model.parameters(), lr=5e-4)"
   ]
  },
  {
   "cell_type": "markdown",
   "id": "61a00cc3",
   "metadata": {},
   "source": [
    "# Train the model and save checkpoints\n"
   ]
  },
  {
   "cell_type": "code",
   "execution_count": 10,
   "id": "251cba70",
   "metadata": {},
   "outputs": [],
   "source": [
    "from torch.utils.data import Dataset\n",
    "\n",
    "class Data(Dataset):\n",
    "    def __init__(self, X, y):\n",
    "        self.features = torch.from_numpy(X.astype(np.float32))\n",
    "        self.labels = torch.from_numpy(y.astype(np.float32))  # Changed from int32 to float32\n",
    "        self.len = self.features.shape[0]\n",
    "       \n",
    "    def __getitem__(self, index):\n",
    "        return self.features[index], self.labels[index]\n",
    "   \n",
    "    def __len__(self):\n",
    "        return self.len"
   ]
  },
  {
   "cell_type": "code",
   "execution_count": 11,
   "id": "e36b8ff7",
   "metadata": {},
   "outputs": [],
   "source": [
    "batch_size = 32\n",
    "\n",
    "train_data = Data(X_train, y_train)\n",
    "train_dataloader = DataLoader(dataset=train_data, batch_size=batch_size, shuffle=True)\n",
    "\n",
    "test_data = Data(X_test, y_test)\n",
    "test_dataloader = DataLoader(dataset=test_data, batch_size=batch_size, shuffle=True)"
   ]
  },
  {
   "cell_type": "code",
   "execution_count": 12,
   "id": "31a06bb7",
   "metadata": {},
   "outputs": [
    {
     "name": "stdout",
     "output_type": "stream",
     "text": [
      "Epoch 1, Loss: 0.9986735535295386\n",
      "Epoch 2, Loss: 0.5730526784532949\n",
      "Epoch 3, Loss: 0.5190033183286065\n",
      "Epoch 4, Loss: 0.5002169483586362\n",
      "Epoch 5, Loss: 0.48873885838608994\n",
      "Epoch 6, Loss: 0.4800594864707244\n",
      "Epoch 7, Loss: 0.4719805827266292\n",
      "Epoch 8, Loss: 0.4667484446575767\n",
      "Epoch 9, Loss: 0.4616132394263619\n",
      "Epoch 10, Loss: 0.45754909280099365\n",
      "Epoch 11, Loss: 0.45312424631495224\n",
      "Epoch 12, Loss: 0.4503549941276249\n",
      "Epoch 13, Loss: 0.44918887160326304\n",
      "Epoch 14, Loss: 0.4454312371580224\n",
      "Epoch 15, Loss: 0.44343941070531545\n",
      "Epoch 16, Loss: 0.4407827328694494\n",
      "Epoch 17, Loss: 0.4401434479575408\n",
      "Epoch 18, Loss: 0.43757649550312444\n",
      "Epoch 19, Loss: 0.4372004035272096\n",
      "Epoch 20, Loss: 0.435700187557622\n",
      "Epoch 21, Loss: 0.4343910303555037\n",
      "Epoch 22, Loss: 0.4336452288062949\n",
      "Epoch 23, Loss: 0.4324599049593273\n",
      "Epoch 24, Loss: 0.43032349097101313\n",
      "Epoch 25, Loss: 0.429462636771955\n",
      "Epoch 26, Loss: 0.42941067093297053\n",
      "Epoch 27, Loss: 0.42875003500988607\n",
      "Epoch 28, Loss: 0.4277483177812476\n",
      "Epoch 29, Loss: 0.42671192868759755\n",
      "Epoch 30, Loss: 0.4262699163273761\n",
      "Epoch 31, Loss: 0.42629149242451314\n",
      "Epoch 32, Loss: 0.42575199666776153\n",
      "Epoch 33, Loss: 0.4245535119583732\n",
      "Epoch 34, Loss: 0.424384679449232\n",
      "Epoch 35, Loss: 0.4230806615791823\n",
      "Epoch 36, Loss: 0.4233815434731935\n",
      "Epoch 37, Loss: 0.4229409506446437\n",
      "Epoch 38, Loss: 0.4221298490699969\n",
      "Epoch 39, Loss: 0.42144160600085007\n",
      "Epoch 40, Loss: 0.42225583760361923\n",
      "Epoch 41, Loss: 0.4208812352858092\n",
      "Epoch 42, Loss: 0.4210808896704724\n",
      "Epoch 43, Loss: 0.41998112044836344\n",
      "Epoch 44, Loss: 0.41978708223292704\n",
      "Epoch 45, Loss: 0.41891902293029587\n",
      "Epoch 46, Loss: 0.4180599592233959\n",
      "Epoch 47, Loss: 0.41864392475077983\n",
      "Epoch 48, Loss: 0.417719681012003\n",
      "Epoch 49, Loss: 0.41765127291804865\n",
      "Epoch 50, Loss: 0.4181452581756993\n",
      "Epoch 51, Loss: 0.41769174133476455\n",
      "Epoch 52, Loss: 0.4160046765678807\n",
      "Epoch 53, Loss: 0.4168351872971183\n",
      "Epoch 54, Loss: 0.41733684508424057\n",
      "Epoch 55, Loss: 0.41573666585119146\n",
      "Epoch 56, Loss: 0.41563618732126134\n",
      "Epoch 57, Loss: 0.41569064949688156\n",
      "Epoch 58, Loss: 0.4150608385864057\n",
      "Epoch 59, Loss: 0.41493431125816543\n",
      "Epoch 60, Loss: 0.414265649099099\n",
      "Epoch 61, Loss: 0.4141930506417626\n",
      "Epoch 62, Loss: 0.41516521337785217\n",
      "Epoch 63, Loss: 0.4139754450634906\n",
      "Epoch 64, Loss: 0.41268013260866465\n",
      "Epoch 65, Loss: 0.4132371787962161\n",
      "Epoch 66, Loss: 0.4131240311421846\n",
      "Epoch 67, Loss: 0.41268331439871536\n",
      "Epoch 68, Loss: 0.41345848692090886\n",
      "Epoch 69, Loss: 0.41121330700422587\n",
      "Epoch 70, Loss: 0.4116698895630084\n",
      "Epoch 71, Loss: 0.4122531861066818\n",
      "Epoch 72, Loss: 0.41077531638898346\n",
      "Epoch 73, Loss: 0.41111980927617925\n",
      "Epoch 74, Loss: 0.41182990450608103\n",
      "Epoch 75, Loss: 0.4100999455702932\n",
      "Epoch 76, Loss: 0.41141441072288315\n",
      "Epoch 77, Loss: 0.41055252520661606\n",
      "Epoch 78, Loss: 0.409997234218999\n",
      "Epoch 79, Loss: 0.4105241086922194\n",
      "Epoch 80, Loss: 0.41028354199309097\n",
      "Epoch 81, Loss: 0.41013166622111674\n",
      "Epoch 82, Loss: 0.4097753080882524\n",
      "Epoch 83, Loss: 0.40958553238918904\n",
      "Epoch 84, Loss: 0.4091239885280007\n",
      "Epoch 85, Loss: 0.4091781613073851\n",
      "Epoch 86, Loss: 0.4087036244179073\n",
      "Epoch 87, Loss: 0.40899521426150676\n",
      "Epoch 88, Loss: 0.40822471599829824\n",
      "Epoch 89, Loss: 0.40870738107907145\n",
      "Epoch 90, Loss: 0.40814252276169627\n",
      "Epoch 91, Loss: 0.4094527261821847\n",
      "Epoch 92, Loss: 0.409144147446281\n",
      "Epoch 93, Loss: 0.4085370968831213\n",
      "Epoch 94, Loss: 0.40770724415779114\n",
      "Epoch 95, Loss: 0.4068392868104734\n",
      "Epoch 96, Loss: 0.40753760855448873\n",
      "Epoch 97, Loss: 0.4079066350271827\n",
      "Epoch 98, Loss: 0.4075002913412295\n",
      "Epoch 99, Loss: 0.4071987828141765\n",
      "Epoch 100, Loss: 0.40737814652292353\n"
     ]
    }
   ],
   "source": [
    "num_epochs = 100\n",
    "loss_values = []\n",
    "\n",
    "for epoch in range(num_epochs):\n",
    "    model.train()\n",
    "    total_loss = 0\n",
    "    for features, labels in train_dataloader:\n",
    "        # zero the parameter gradients\n",
    "        optimizer.zero_grad()\n",
    "       \n",
    "        # forward + backward + optimize\n",
    "        pred = model(features)\n",
    "        loss = criterion(pred, labels)\n",
    "        total_loss += loss.item()\n",
    "        loss_values.append(loss.item())\n",
    "        loss.backward()\n",
    "        optimizer.step()\n",
    "    \n",
    "    print(f\"Epoch {epoch + 1}, Loss: {total_loss / len(train_dataloader)}\")"
   ]
  },
  {
   "cell_type": "code",
   "execution_count": 13,
   "id": "9b47bb21",
   "metadata": {},
   "outputs": [
    {
     "data": {
      "image/png": "[encoded data removed]",
      "text/plain": [
       "<Figure size 800x500 with 1 Axes>"
      ]
     },
     "metadata": {},
     "output_type": "display_data"
    }
   ],
   "source": [
    "import matplotlib.pyplot as plt\n",
    "\n",
    "step = range(len(loss_values))\n",
    "\n",
    "fig, ax = plt.subplots(figsize=(8,5))\n",
    "plt.plot(step, np.array(loss_values))\n",
    "plt.title(\"Step-wise Loss\")\n",
    "plt.xlabel(\"Epochs\")\n",
    "plt.ylabel(\"Loss\")\n",
    "plt.ylim((0, 1))\n",
    "plt.show()"
   ]
  },
  {
   "cell_type": "markdown",
   "id": "5a6da68b",
   "metadata": {},
   "source": [
    "# Evaluate performance on validation data\n"
   ]
  },
  {
   "cell_type": "code",
   "execution_count": 14,
   "id": "52d3c9ca",
   "metadata": {},
   "outputs": [
    {
     "name": "stdout",
     "output_type": "stream",
     "text": [
      "Accuracy of the network on the test set: 80.71%\n",
      "Total predictions: 1208 (across 302 samples with 4 controls each)\n",
      "\n",
      "Per-control accuracy:\n",
      "  Forward: 69.54%\n",
      "  Backward: 90.40%\n",
      "  Left: 86.75%\n",
      "  Right: 76.16%\n"
     ]
    }
   ],
   "source": [
    "# Evaluate the model on test data\n",
    "model.eval()\n",
    "correct = 0\n",
    "total = 0\n",
    "all_predictions = []\n",
    "all_labels = []\n",
    "\n",
    "with torch.no_grad():\n",
    "    for features, labels in test_dataloader:\n",
    "        outputs = model(features)  # Get model outputs (probabilities from sigmoid)\n",
    "        \n",
    "        # Convert probabilities to binary predictions (0 or 1)\n",
    "        predicted = (outputs >= 0.6).float()\n",
    "        \n",
    "        # Calculate accuracy per element (since we have 4 outputs per sample)\n",
    "        correct += (predicted == labels).sum().item()\n",
    "        total += labels.numel()  # Total number of elements (batch_size * 4)\n",
    "        \n",
    "        # Store for later analysis if needed\n",
    "        all_predictions.append(predicted.numpy())\n",
    "        all_labels.append(labels.numpy())\n",
    "\n",
    "# Calculate overall accuracy\n",
    "accuracy = 100 * correct / total\n",
    "print(f'Accuracy of the network on the test set: {accuracy:.2f}%')\n",
    "print(f'Total predictions: {total} (across {total//4} samples with 4 controls each)')\n",
    "\n",
    "# Optionally, calculate per-control accuracy\n",
    "all_predictions = np.vstack(all_predictions)\n",
    "all_labels = np.vstack(all_labels)\n",
    "\n",
    "print(\"\\nPer-control accuracy:\")\n",
    "for i, control in enumerate(['Forward', 'Backward', 'Left', 'Right']):\n",
    "    control_correct = (all_predictions[:, i] == all_labels[:, i]).sum()\n",
    "    control_total = len(all_predictions)\n",
    "    control_accuracy = 100 * control_correct / control_total\n",
    "    print(f'  {control}: {control_accuracy:.2f}%')"
   ]
  },
  {
   "cell_type": "markdown",
   "id": "5f68fd04",
   "metadata": {},
   "source": [
    "# Save the trained model"
   ]
  },
  {
   "cell_type": "code",
   "execution_count": 15,
   "id": "7a3d3817",
   "metadata": {},
   "outputs": [
    {
     "name": "stdout",
     "output_type": "stream",
     "text": [
      "Model saved to slow_model.pth\n",
      "Checkpoint saved to slow_model_checkpoint.pth\n"
     ]
    }
   ],
   "source": [
    "# Save the trained model\n",
    "model_save_path = \"slow_model.pth\"\n",
    "torch.save(model.state_dict(), model_save_path)\n",
    "print(f\"Model saved to {model_save_path}\")\n",
    "\n",
    "# You can also save with additional info\n",
    "checkpoint = {\n",
    "    'model_state_dict': model.state_dict(),\n",
    "    'optimizer_state_dict': optimizer.state_dict(),\n",
    "    'final_loss': loss_values[-1] if loss_values else None,\n",
    "    'accuracy': accuracy\n",
    "}\n",
    "torch.save(checkpoint, \"slow_model_checkpoint.pth\")\n",
    "print(\"Checkpoint saved to slow_model_checkpoint.pth\")"
   ]
  }
 ],
 "metadata": {
  "kernelspec": {
   "display_name": ".venv",
   "language": "python",
   "name": "python3"
  },
  "language_info": {
   "codemirror_mode": {
    "name": "ipython",
    "version": 3
   },
   "file_extension": ".py",
   "mimetype": "text/x-python",
   "name": "python",
   "nbconvert_exporter": "python",
   "pygments_lexer": "ipython3",
   "version": "3.13.7"
  }
 },
 "nbformat": 4,
 "nbformat_minor": 5
}
