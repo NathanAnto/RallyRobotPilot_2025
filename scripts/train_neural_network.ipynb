{
 "cells": [
  {
   "cell_type": "code",
   "execution_count": 34,
   "id": "7f8e033d",
   "metadata": {},
   "outputs": [],
   "source": [
    "import lzma\n",
    "import pickle\n",
    "\n",
    "import torch\n",
    "from torch import nn\n",
    "from torch import optim\n",
    "from torch.utils.data import DataLoader\n",
    "import pandas as pd\n",
    "import numpy as np\n",
    "\n",
    "from sklearn.model_selection import train_test_split\n",
    "\n",
    "from neural_network import NeuralNetwork"
   ]
  },
  {
   "cell_type": "code",
   "execution_count": 35,
   "id": "c0078d8d",
   "metadata": {},
   "outputs": [
    {
     "name": "stdout",
     "output_type": "stream",
     "text": [
      "Using cpu device\n"
     ]
    }
   ],
   "source": [
    "device = torch.accelerator.current_accelerator().type if torch.accelerator.is_available() else \"cpu\"\n",
    "print(f\"Using {device} device\")"
   ]
  },
  {
   "cell_type": "markdown",
   "id": "03f30da0",
   "metadata": {},
   "source": [
    "# Load and preprocess your collected data\n"
   ]
  },
  {
   "cell_type": "code",
   "execution_count": 36,
   "id": "fe6b16b6",
   "metadata": {},
   "outputs": [
    {
     "name": "stdout",
     "output_type": "stream",
     "text": [
      "record_0 average speed: 37.4117920554004\n",
      "record_1 average speed: 40.77769929909509\n",
      "record_2 average speed: 41.30762935273441\n",
      "record_3 average speed: 40.1125858757231\n",
      "record_4 average speed: 38.769415028717205\n",
      "record_5 average speed: 37.461681267389885\n",
      "record_6 average speed: 40.32858584030815\n",
      "record_7 average speed: 39.806681031603446\n",
      "record_8 average speed: 41.6986648238131\n",
      "record_9 average speed: 41.80501332617643\n",
      "record_10 average speed: 39.59026164436772\n"
     ]
    }
   ],
   "source": [
    "from statistics import mean\n",
    "\n",
    "snapshots = []\n",
    "\n",
    "for i in range(11):\n",
    "    with lzma.open(f\"../record_{i}.npz\", \"rb\") as file:\n",
    "        data = pickle.load(file)\n",
    "        avg_speed = mean([d.car_speed for d in data])\n",
    "        print(f\"record_{i} average speed: {avg_speed}\")\n",
    "        # if avg_speed < 38:\n",
    "        snapshots = snapshots + data"
   ]
  },
  {
   "cell_type": "code",
   "execution_count": 37,
   "id": "a844d056",
   "metadata": {},
   "outputs": [],
   "source": [
    "X_scalar_list = [\n",
    "    [s.car_speed, *s.raycast_distances]\n",
    "    for s in snapshots\n",
    "]\n",
    "X_image_list = [s.image for s in snapshots]\n",
    "\n",
    "# 2. Create the list of labels (y). The original list comprehension was a bit complex.\n",
    "y_list = [s.current_controls for s in snapshots]\n",
    "\n",
    "# 3. Convert all lists to NumPy arrays with a specific data type\n",
    "features = np.array(X_scalar_list, dtype=np.float32)\n",
    "labels = np.array(y_list, dtype=np.float32)\n",
    "\n",
    "X_train, X_test, y_train, y_test = train_test_split(features, labels, test_size=0.2, random_state=42)"
   ]
  },
  {
   "cell_type": "markdown",
   "id": "8851a1ed",
   "metadata": {},
   "source": [
    "# Define your neural network model\n"
   ]
  },
  {
   "cell_type": "code",
   "execution_count": 38,
   "id": "5203adb9",
   "metadata": {},
   "outputs": [
    {
     "data": {
      "text/plain": [
       "NeuralNetwork(\n",
       "  (flatten): Flatten(start_dim=1, end_dim=-1)\n",
       "  (linear_relu_stack): Sequential(\n",
       "    (0): Linear(in_features=16, out_features=64, bias=True)\n",
       "    (1): ReLU()\n",
       "    (2): Linear(in_features=64, out_features=32, bias=True)\n",
       "    (3): ReLU()\n",
       "    (4): Linear(in_features=32, out_features=4, bias=True)\n",
       "    (5): Sigmoid()\n",
       "  )\n",
       ")"
      ]
     },
     "execution_count": 38,
     "metadata": {},
     "output_type": "execute_result"
    }
   ],
   "source": [
    "model = NeuralNetwork().to(device)\n",
    "model"
   ]
  },
  {
   "cell_type": "markdown",
   "id": "7a2490f8",
   "metadata": {},
   "source": [
    "# Set up training loop with loss function and optimizer"
   ]
  },
  {
   "cell_type": "code",
   "execution_count": 39,
   "id": "e919a70d",
   "metadata": {},
   "outputs": [],
   "source": [
    "criterion = nn.BCELoss()\n",
    "optimizer = torch.optim.SGD(model.parameters(), lr=5e-4)"
   ]
  },
  {
   "cell_type": "markdown",
   "id": "61a00cc3",
   "metadata": {},
   "source": [
    "# Train the model and save checkpoints\n"
   ]
  },
  {
   "cell_type": "code",
   "execution_count": 40,
   "id": "251cba70",
   "metadata": {},
   "outputs": [],
   "source": [
    "from torch.utils.data import Dataset\n",
    "\n",
    "class Data(Dataset):\n",
    "    def __init__(self, X, y):\n",
    "        self.features = torch.from_numpy(X.astype(np.float32))\n",
    "        self.labels = torch.from_numpy(y.astype(np.float32))  # Changed from int32 to float32\n",
    "        self.len = self.features.shape[0]\n",
    "       \n",
    "    def __getitem__(self, index):\n",
    "        return self.features[index], self.labels[index]\n",
    "   \n",
    "    def __len__(self):\n",
    "        return self.len"
   ]
  },
  {
   "cell_type": "code",
   "execution_count": 41,
   "id": "e36b8ff7",
   "metadata": {},
   "outputs": [],
   "source": [
    "batch_size = 32\n",
    "\n",
    "train_data = Data(X_train, y_train)\n",
    "train_dataloader = DataLoader(dataset=train_data, batch_size=batch_size, shuffle=True)\n",
    "\n",
    "test_data = Data(X_test, y_test)\n",
    "test_dataloader = DataLoader(dataset=test_data, batch_size=batch_size, shuffle=True)"
   ]
  },
  {
   "cell_type": "code",
   "execution_count": 42,
   "id": "31a06bb7",
   "metadata": {},
   "outputs": [
    {
     "name": "stdout",
     "output_type": "stream",
     "text": [
      "Epoch 1, Loss: 0.7289083699385325\n",
      "Epoch 2, Loss: 0.5700789351354946\n",
      "Epoch 3, Loss: 0.530784648476225\n",
      "Epoch 4, Loss: 0.5032696010488452\n",
      "Epoch 3, Loss: 0.530784648476225\n",
      "Epoch 4, Loss: 0.5032696010488452\n",
      "Epoch 5, Loss: 0.48632402988997375\n",
      "Epoch 6, Loss: 0.4689473080815691\n",
      "Epoch 5, Loss: 0.48632402988997375\n",
      "Epoch 6, Loss: 0.4689473080815691\n",
      "Epoch 7, Loss: 0.4564738029783422\n",
      "Epoch 8, Loss: 0.44773793626915326\n",
      "Epoch 7, Loss: 0.4564738029783422\n",
      "Epoch 8, Loss: 0.44773793626915326\n",
      "Epoch 9, Loss: 0.4373647683497631\n",
      "Epoch 10, Loss: 0.433509473547791\n",
      "Epoch 9, Loss: 0.4373647683497631\n",
      "Epoch 10, Loss: 0.433509473547791\n",
      "Epoch 11, Loss: 0.42515163033297565\n",
      "Epoch 12, Loss: 0.41974147702708386\n",
      "Epoch 11, Loss: 0.42515163033297565\n",
      "Epoch 12, Loss: 0.41974147702708386\n",
      "Epoch 13, Loss: 0.41589370144136023\n",
      "Epoch 14, Loss: 0.4123011249484438\n",
      "Epoch 15, Loss: 0.4081071023688172\n",
      "Epoch 13, Loss: 0.41589370144136023\n",
      "Epoch 14, Loss: 0.4123011249484438\n",
      "Epoch 15, Loss: 0.4081071023688172\n",
      "Epoch 16, Loss: 0.4060307312192339\n",
      "Epoch 17, Loss: 0.4060842981844237\n",
      "Epoch 18, Loss: 0.39885464852506464\n",
      "Epoch 16, Loss: 0.4060307312192339\n",
      "Epoch 17, Loss: 0.4060842981844237\n",
      "Epoch 18, Loss: 0.39885464852506464\n",
      "Epoch 19, Loss: 0.4000557214021683\n",
      "Epoch 20, Loss: 0.39706455667813617\n",
      "Epoch 21, Loss: 0.3936215304967129\n",
      "Epoch 19, Loss: 0.4000557214021683\n",
      "Epoch 20, Loss: 0.39706455667813617\n",
      "Epoch 21, Loss: 0.3936215304967129\n",
      "Epoch 22, Loss: 0.3927792875152646\n",
      "Epoch 23, Loss: 0.3910988415732528\n",
      "Epoch 24, Loss: 0.39198151140502\n",
      "Epoch 22, Loss: 0.3927792875152646\n",
      "Epoch 23, Loss: 0.3910988415732528\n",
      "Epoch 24, Loss: 0.39198151140502\n",
      "Epoch 25, Loss: 0.3911158216722084\n",
      "Epoch 26, Loss: 0.3867435942996632\n",
      "Epoch 27, Loss: 0.38752491185159393\n",
      "Epoch 25, Loss: 0.3911158216722084\n",
      "Epoch 26, Loss: 0.3867435942996632\n",
      "Epoch 27, Loss: 0.38752491185159393\n",
      "Epoch 28, Loss: 0.38459452219081647\n",
      "Epoch 29, Loss: 0.3836618959903717\n",
      "Epoch 30, Loss: 0.38359457435029926\n",
      "Epoch 28, Loss: 0.38459452219081647\n",
      "Epoch 29, Loss: 0.3836618959903717\n",
      "Epoch 30, Loss: 0.38359457435029926\n",
      "Epoch 31, Loss: 0.38087367830854474\n",
      "Epoch 32, Loss: 0.37925737780151947\n",
      "Epoch 33, Loss: 0.3820916290084521\n",
      "Epoch 31, Loss: 0.38087367830854474\n",
      "Epoch 32, Loss: 0.37925737780151947\n",
      "Epoch 33, Loss: 0.3820916290084521\n",
      "Epoch 34, Loss: 0.3803507635990779\n",
      "Epoch 35, Loss: 0.3770367141925927\n",
      "Epoch 36, Loss: 0.3776793186411713\n",
      "Epoch 34, Loss: 0.3803507635990779\n",
      "Epoch 35, Loss: 0.3770367141925927\n",
      "Epoch 36, Loss: 0.3776793186411713\n",
      "Epoch 37, Loss: 0.37771041420373047\n",
      "Epoch 38, Loss: 0.3782468614253131\n",
      "Epoch 39, Loss: 0.37520496366602\n",
      "Epoch 37, Loss: 0.37771041420373047\n",
      "Epoch 38, Loss: 0.3782468614253131\n",
      "Epoch 39, Loss: 0.37520496366602\n",
      "Epoch 40, Loss: 0.371978743735588\n",
      "Epoch 41, Loss: 0.3733704103664918\n",
      "Epoch 42, Loss: 0.3717926736130859\n",
      "Epoch 40, Loss: 0.371978743735588\n",
      "Epoch 41, Loss: 0.3733704103664918\n",
      "Epoch 42, Loss: 0.3717926736130859\n",
      "Epoch 43, Loss: 0.3746483917489196\n",
      "Epoch 44, Loss: 0.37232856723395263\n",
      "Epoch 45, Loss: 0.36896818831111444\n",
      "Epoch 43, Loss: 0.3746483917489196\n",
      "Epoch 44, Loss: 0.37232856723395263\n",
      "Epoch 45, Loss: 0.36896818831111444\n",
      "Epoch 46, Loss: 0.36874442118586914\n",
      "Epoch 47, Loss: 0.3684723490115368\n",
      "Epoch 46, Loss: 0.36874442118586914\n",
      "Epoch 47, Loss: 0.3684723490115368\n",
      "Epoch 48, Loss: 0.3696758665821769\n",
      "Epoch 49, Loss: 0.3688071162411661\n",
      "Epoch 50, Loss: 0.36619081325603253\n",
      "Epoch 48, Loss: 0.3696758665821769\n",
      "Epoch 49, Loss: 0.3688071162411661\n",
      "Epoch 50, Loss: 0.36619081325603253\n",
      "Epoch 51, Loss: 0.36546842166871735\n",
      "Epoch 52, Loss: 0.3641555006756927\n",
      "Epoch 53, Loss: 0.3658665070931117\n",
      "Epoch 51, Loss: 0.36546842166871735\n",
      "Epoch 52, Loss: 0.3641555006756927\n",
      "Epoch 53, Loss: 0.3658665070931117\n",
      "Epoch 54, Loss: 0.36394372740478226\n",
      "Epoch 55, Loss: 0.36340172137274884\n",
      "Epoch 56, Loss: 0.3655107554161187\n",
      "Epoch 54, Loss: 0.36394372740478226\n",
      "Epoch 55, Loss: 0.36340172137274884\n",
      "Epoch 56, Loss: 0.3655107554161187\n",
      "Epoch 57, Loss: 0.36312650189255224\n",
      "Epoch 58, Loss: 0.36149680117766064\n",
      "Epoch 59, Loss: 0.36301534419709985\n",
      "Epoch 57, Loss: 0.36312650189255224\n",
      "Epoch 58, Loss: 0.36149680117766064\n",
      "Epoch 59, Loss: 0.36301534419709985\n",
      "Epoch 60, Loss: 0.35994018162741803\n",
      "Epoch 61, Loss: 0.36192309246821835\n",
      "Epoch 62, Loss: 0.3608023135951071\n",
      "Epoch 60, Loss: 0.35994018162741803\n",
      "Epoch 61, Loss: 0.36192309246821835\n",
      "Epoch 62, Loss: 0.3608023135951071\n",
      "Epoch 63, Loss: 0.3599036354007143\n",
      "Epoch 64, Loss: 0.3595145760160504\n",
      "Epoch 65, Loss: 0.35992069587563025\n",
      "Epoch 63, Loss: 0.3599036354007143\n",
      "Epoch 64, Loss: 0.3595145760160504\n",
      "Epoch 65, Loss: 0.35992069587563025\n",
      "Epoch 66, Loss: 0.35858122101335815\n",
      "Epoch 67, Loss: 0.3595544280427875\n",
      "Epoch 68, Loss: 0.3571380056215055\n",
      "Epoch 66, Loss: 0.35858122101335815\n",
      "Epoch 67, Loss: 0.3595544280427875\n",
      "Epoch 68, Loss: 0.3571380056215055\n",
      "Epoch 69, Loss: 0.3585732520529718\n",
      "Epoch 70, Loss: 0.35797345547965076\n",
      "Epoch 71, Loss: 0.3576236403349674\n",
      "Epoch 69, Loss: 0.3585732520529718\n",
      "Epoch 70, Loss: 0.35797345547965076\n",
      "Epoch 71, Loss: 0.3576236403349674\n",
      "Epoch 72, Loss: 0.3541180168588956\n",
      "Epoch 73, Loss: 0.35451316065860516\n",
      "Epoch 74, Loss: 0.35329399438518466\n",
      "Epoch 72, Loss: 0.3541180168588956\n",
      "Epoch 73, Loss: 0.35451316065860516\n",
      "Epoch 74, Loss: 0.35329399438518466\n",
      "Epoch 75, Loss: 0.3548220039317102\n",
      "Epoch 76, Loss: 0.35409224484906054\n",
      "Epoch 77, Loss: 0.3533927604104533\n",
      "Epoch 75, Loss: 0.3548220039317102\n",
      "Epoch 76, Loss: 0.35409224484906054\n",
      "Epoch 77, Loss: 0.3533927604104533\n",
      "Epoch 78, Loss: 0.35627814608089853\n",
      "Epoch 79, Loss: 0.3545201542702588\n",
      "Epoch 80, Loss: 0.3535162205948974\n",
      "Epoch 78, Loss: 0.35627814608089853\n",
      "Epoch 79, Loss: 0.3545201542702588\n",
      "Epoch 80, Loss: 0.3535162205948974\n",
      "Epoch 81, Loss: 0.3513794401378343\n",
      "Epoch 82, Loss: 0.35199650806007965\n",
      "Epoch 83, Loss: 0.3529232708793698\n",
      "Epoch 81, Loss: 0.3513794401378343\n",
      "Epoch 82, Loss: 0.35199650806007965\n",
      "Epoch 83, Loss: 0.3529232708793698\n",
      "Epoch 84, Loss: 0.3504624152273843\n",
      "Epoch 85, Loss: 0.3502469037969907\n",
      "Epoch 86, Loss: 0.3520993518106865\n",
      "Epoch 84, Loss: 0.3504624152273843\n",
      "Epoch 85, Loss: 0.3502469037969907\n",
      "Epoch 86, Loss: 0.3520993518106865\n",
      "Epoch 87, Loss: 0.3501088619232178\n",
      "Epoch 88, Loss: 0.349467765426997\n",
      "Epoch 89, Loss: 0.34948674295887805\n",
      "Epoch 87, Loss: 0.3501088619232178\n",
      "Epoch 88, Loss: 0.349467765426997\n",
      "Epoch 89, Loss: 0.34948674295887805\n",
      "Epoch 90, Loss: 0.35071572345314606\n",
      "Epoch 91, Loss: 0.34878191193847946\n",
      "Epoch 92, Loss: 0.34775428157864197\n",
      "Epoch 90, Loss: 0.35071572345314606\n",
      "Epoch 91, Loss: 0.34878191193847946\n",
      "Epoch 92, Loss: 0.34775428157864197\n",
      "Epoch 93, Loss: 0.3506824432900458\n",
      "Epoch 94, Loss: 0.34759048282197025\n",
      "Epoch 93, Loss: 0.3506824432900458\n",
      "Epoch 94, Loss: 0.34759048282197025\n",
      "Epoch 95, Loss: 0.35177413125832874\n",
      "Epoch 96, Loss: 0.34682980902267224\n",
      "Epoch 97, Loss: 0.34774071926420386\n",
      "Epoch 95, Loss: 0.35177413125832874\n",
      "Epoch 96, Loss: 0.34682980902267224\n",
      "Epoch 97, Loss: 0.34774071926420386\n",
      "Epoch 98, Loss: 0.3471091522863417\n",
      "Epoch 99, Loss: 0.3450425371076121\n",
      "Epoch 100, Loss: 0.3467946009653987\n",
      "Epoch 98, Loss: 0.3471091522863417\n",
      "Epoch 99, Loss: 0.3450425371076121\n",
      "Epoch 100, Loss: 0.3467946009653987\n"
     ]
    }
   ],
   "source": [
    "num_epochs = 100\n",
    "loss_values = []\n",
    "\n",
    "for epoch in range(num_epochs):\n",
    "    model.train()\n",
    "    total_loss = 0\n",
    "    for features, labels in train_dataloader:\n",
    "        # zero the parameter gradients\n",
    "        optimizer.zero_grad()\n",
    "       \n",
    "        # forward + backward + optimize\n",
    "        pred = model(features)\n",
    "        loss = criterion(pred, labels)\n",
    "        total_loss += loss.item()\n",
    "        loss_values.append(loss.item())\n",
    "        loss.backward()\n",
    "        optimizer.step()\n",
    "    \n",
    "    print(f\"Epoch {epoch + 1}, Loss: {total_loss / len(train_dataloader)}\")"
   ]
  },
  {
   "cell_type": "code",
   "execution_count": 43,
   "id": "9b47bb21",
   "metadata": {},
   "outputs": [
    {
     "data": {
      "image/png": "[encoded data removed]",
      "text/plain": [
       "<Figure size 800x500 with 1 Axes>"
      ]
     },
     "metadata": {},
     "output_type": "display_data"
    }
   ],
   "source": [
    "import matplotlib.pyplot as plt\n",
    "\n",
    "step = range(len(loss_values))\n",
    "\n",
    "fig, ax = plt.subplots(figsize=(8,5))\n",
    "plt.plot(step, np.array(loss_values))\n",
    "plt.title(\"Step-wise Loss\")\n",
    "plt.xlabel(\"Epochs\")\n",
    "plt.ylabel(\"Loss\")\n",
    "plt.show()"
   ]
  },
  {
   "cell_type": "markdown",
   "id": "5a6da68b",
   "metadata": {},
   "source": [
    "# Evaluate performance on validation data\n"
   ]
  },
  {
   "cell_type": "code",
   "execution_count": 44,
   "id": "52d3c9ca",
   "metadata": {},
   "outputs": [
    {
     "name": "stdout",
     "output_type": "stream",
     "text": [
      "Accuracy of the network on the test set: 85.76%\n",
      "Total predictions: 2092 (across 523 samples with 4 controls each)\n",
      "\n",
      "Per-control accuracy:\n",
      "  Forward: 78.97%\n",
      "  Backward: 95.03%\n",
      "  Left: 86.04%\n",
      "  Right: 82.98%\n"
     ]
    }
   ],
   "source": [
    "# Evaluate the model on test data\n",
    "model.eval()\n",
    "correct = 0\n",
    "total = 0\n",
    "all_predictions = []\n",
    "all_labels = []\n",
    "\n",
    "with torch.no_grad():\n",
    "    for features, labels in test_dataloader:\n",
    "        outputs = model(features)  # Get model outputs (probabilities from sigmoid)\n",
    "        \n",
    "        # Convert probabilities to binary predictions (0 or 1)\n",
    "        predicted = (outputs >= 0.6).float()\n",
    "        \n",
    "        # Calculate accuracy per element (since we have 4 outputs per sample)\n",
    "        correct += (predicted == labels).sum().item()\n",
    "        total += labels.numel()  # Total number of elements (batch_size * 4)\n",
    "        \n",
    "        # Store for later analysis if needed\n",
    "        all_predictions.append(predicted.numpy())\n",
    "        all_labels.append(labels.numpy())\n",
    "\n",
    "# Calculate overall accuracy\n",
    "accuracy = 100 * correct / total\n",
    "print(f'Accuracy of the network on the test set: {accuracy:.2f}%')\n",
    "print(f'Total predictions: {total} (across {total//4} samples with 4 controls each)')\n",
    "\n",
    "# Optionally, calculate per-control accuracy\n",
    "all_predictions = np.vstack(all_predictions)\n",
    "all_labels = np.vstack(all_labels)\n",
    "\n",
    "print(\"\\nPer-control accuracy:\")\n",
    "for i, control in enumerate(['Forward', 'Backward', 'Left', 'Right']):\n",
    "    control_correct = (all_predictions[:, i] == all_labels[:, i]).sum()\n",
    "    control_total = len(all_predictions)\n",
    "    control_accuracy = 100 * control_correct / control_total\n",
    "    print(f'  {control}: {control_accuracy:.2f}%')"
   ]
  },
  {
   "cell_type": "markdown",
   "id": "5f68fd04",
   "metadata": {},
   "source": [
    "# Save the trained model"
   ]
  },
  {
   "cell_type": "code",
   "execution_count": 45,
   "id": "7a3d3817",
   "metadata": {},
   "outputs": [
    {
     "name": "stdout",
     "output_type": "stream",
     "text": [
      "Model saved to trained_model.pth\n",
      "Checkpoint saved to trained_model_checkpoint.pth\n"
     ]
    }
   ],
   "source": [
    "# Save the trained model\n",
    "model_save_path = \"trained_model.pth\"\n",
    "torch.save(model.state_dict(), model_save_path)\n",
    "print(f\"Model saved to {model_save_path}\")\n",
    "\n",
    "# You can also save with additional info\n",
    "checkpoint = {\n",
    "    'model_state_dict': model.state_dict(),\n",
    "    'optimizer_state_dict': optimizer.state_dict(),\n",
    "    'final_loss': loss_values[-1] if loss_values else None,\n",
    "    'accuracy': accuracy\n",
    "}\n",
    "torch.save(checkpoint, \"trained_model_checkpoint.pth\")\n",
    "print(\"Checkpoint saved to trained_model_checkpoint.pth\")"
   ]
  }
 ],
 "metadata": {
  "kernelspec": {
   "display_name": ".venv",
   "language": "python",
   "name": "python3"
  },
  "language_info": {
   "codemirror_mode": {
    "name": "ipython",
    "version": 3
   },
   "file_extension": ".py",
   "mimetype": "text/x-python",
   "name": "python",
   "nbconvert_exporter": "python",
   "pygments_lexer": "ipython3",
   "version": "3.13.7"
  }
 },
 "nbformat": 4,
 "nbformat_minor": 5
}
