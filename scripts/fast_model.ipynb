{
 "cells": [
  {
   "cell_type": "code",
   "execution_count": 1,
   "id": "7f8e033d",
   "metadata": {},
   "outputs": [],
   "source": [
    "import lzma\n",
    "import pickle\n",
    "\n",
    "import torch\n",
    "from torch import nn\n",
    "from torch import optim\n",
    "from torch.utils.data import DataLoader\n",
    "import pandas as pd\n",
    "import numpy as np\n",
    "\n",
    "from sklearn.model_selection import train_test_split\n",
    "\n",
    "from neural_network import NeuralNetwork"
   ]
  },
  {
   "cell_type": "code",
   "execution_count": 2,
   "id": "c0078d8d",
   "metadata": {},
   "outputs": [
    {
     "name": "stdout",
     "output_type": "stream",
     "text": [
      "Using cpu device\n"
     ]
    }
   ],
   "source": [
    "device = torch.accelerator.current_accelerator().type if torch.accelerator.is_available() else \"cpu\"\n",
    "print(f\"Using {device} device\")"
   ]
  },
  {
   "cell_type": "code",
   "execution_count": 3,
   "id": "8156a6ae",
   "metadata": {},
   "outputs": [],
   "source": [
    "import glob\n",
    "\n",
    "RECORD_COUNT = len(glob.glob(\"../record_*\")) "
   ]
  },
  {
   "cell_type": "markdown",
   "id": "03f30da0",
   "metadata": {},
   "source": [
    "# Load and preprocess your collected data\n"
   ]
  },
  {
   "cell_type": "code",
   "execution_count": 4,
   "id": "fb3c0729",
   "metadata": {},
   "outputs": [
    {
     "name": "stdout",
     "output_type": "stream",
     "text": [
      "package_folder: /home/nathan/projects/RallyRobotPilot_2025/.venv/lib/python3.13/site-packages/ursina\n",
      "asset_folder: /home/nathan/projects/RallyRobotPilot_2025/.venv/lib/python3.13/site-packages\n"
     ]
    },
    {
     "name": "stderr",
     "output_type": "stream",
     "text": [
      "which: no blender in (/home/nathan/projects/RallyRobotPilot_2025/.venv/bin:/home/nathan/.rvm/gems/ruby-3.3.8/bin:/home/nathan/.rvm/gems/ruby-3.3.8@global/bin:/home/nathan/.rvm/rubies/ruby-3.3.8/bin:/usr/local/bin:/usr/bin:/bin:/usr/local/sbin:/usr/lib/jvm/default/bin:/usr/bin/site_perl:/usr/bin/vendor_perl:/usr/bin/core_perl:/home/nathan/.rvm/bin)\n"
     ]
    },
    {
     "name": "stdout",
     "output_type": "stream",
     "text": [
      "record_0 average speed: 37.4117920554004\n",
      "record_1 average speed: 40.77769929909509\n",
      "record_2 average speed: 41.30762935273441\n",
      "record_3 average speed: 40.1125858757231\n",
      "record_4 average speed: 38.769415028717205\n",
      "Skipping record_5.npz - file not found\n",
      "Skipping record_6.npz - file not found\n",
      "Skipping record_7.npz - file not found\n",
      "Skipping record_8.npz - file not found\n",
      "Skipping record_9.npz - file not found\n",
      "record_10 average speed: 39.59026164436772\n",
      "Skipping record_11.npz - file not found\n",
      "record_12 average speed: 21.02368163925553\n",
      "record_13 average speed: 27.55777011326381\n"
     ]
    }
   ],
   "source": [
    "from statistics import mean\n",
    "\n",
    "snapshots = []\n",
    "\n",
    "for i in range(RECORD_COUNT):\n",
    "    try:\n",
    "        with lzma.open(f\"../record_{i}.npz\", \"rb\") as file:\n",
    "            data = pickle.load(file)\n",
    "            avg_speed = mean([d.car_speed for d in data])\n",
    "            print(f\"record_{i} average speed: {avg_speed}\")\n",
    "            if avg_speed >= 30:\n",
    "                snapshots = snapshots + data\n",
    "    except FileNotFoundError:\n",
    "        print(f\"Skipping record_{i}.npz - file not found\")\n",
    "    except Exception as e:\n",
    "        print(f\"Error processing record_{i}.npz: {e}\")\n",
    "        continue"
   ]
  },
  {
   "cell_type": "code",
   "execution_count": 5,
   "id": "a844d056",
   "metadata": {},
   "outputs": [],
   "source": [
    "X_scalar_list = [\n",
    "    [s.car_speed, *s.raycast_distances]\n",
    "    for s in snapshots\n",
    "]\n",
    "\n",
    "# 2. Create the list of labels (y). The original list comprehension was a bit complex.\n",
    "y_list = [s.current_controls for s in snapshots]\n",
    "\n",
    "# 3. Convert all lists to NumPy arrays with a specific data type\n",
    "features = np.array(X_scalar_list, dtype=np.float32)\n",
    "labels = np.array(y_list, dtype=np.float32)\n",
    "\n",
    "X_train, X_test, y_train, y_test = train_test_split(features, labels, test_size=0.2, random_state=42)"
   ]
  },
  {
   "cell_type": "markdown",
   "id": "8851a1ed",
   "metadata": {},
   "source": [
    "# Define your neural network model\n"
   ]
  },
  {
   "cell_type": "code",
   "execution_count": 6,
   "id": "5203adb9",
   "metadata": {},
   "outputs": [
    {
     "data": {
      "text/plain": [
       "NeuralNetwork(\n",
       "  (flatten): Flatten(start_dim=1, end_dim=-1)\n",
       "  (linear_relu_stack): Sequential(\n",
       "    (0): Linear(in_features=16, out_features=64, bias=True)\n",
       "    (1): ReLU()\n",
       "    (2): Linear(in_features=64, out_features=32, bias=True)\n",
       "    (3): ReLU()\n",
       "    (4): Linear(in_features=32, out_features=4, bias=True)\n",
       "    (5): Sigmoid()\n",
       "  )\n",
       ")"
      ]
     },
     "execution_count": 6,
     "metadata": {},
     "output_type": "execute_result"
    }
   ],
   "source": [
    "model = NeuralNetwork().to(device)\n",
    "model"
   ]
  },
  {
   "cell_type": "markdown",
   "id": "7a2490f8",
   "metadata": {},
   "source": [
    "# Set up training loop with loss function and optimizer"
   ]
  },
  {
   "cell_type": "code",
   "execution_count": 7,
   "id": "e919a70d",
   "metadata": {},
   "outputs": [],
   "source": [
    "criterion = nn.BCELoss()\n",
    "optimizer = torch.optim.SGD(model.parameters(), lr=5e-4)"
   ]
  },
  {
   "cell_type": "markdown",
   "id": "61a00cc3",
   "metadata": {},
   "source": [
    "# Train the model and save checkpoints\n"
   ]
  },
  {
   "cell_type": "code",
   "execution_count": 8,
   "id": "251cba70",
   "metadata": {},
   "outputs": [],
   "source": [
    "from torch.utils.data import Dataset\n",
    "\n",
    "class Data(Dataset):\n",
    "    def __init__(self, X, y):\n",
    "        self.features = torch.from_numpy(X.astype(np.float32))\n",
    "        self.labels = torch.from_numpy(y.astype(np.float32))  # Changed from int32 to float32\n",
    "        self.len = self.features.shape[0]\n",
    "       \n",
    "    def __getitem__(self, index):\n",
    "        return self.features[index], self.labels[index]\n",
    "   \n",
    "    def __len__(self):\n",
    "        return self.len"
   ]
  },
  {
   "cell_type": "code",
   "execution_count": 9,
   "id": "e36b8ff7",
   "metadata": {},
   "outputs": [],
   "source": [
    "batch_size = 32\n",
    "\n",
    "train_data = Data(X_train, y_train)\n",
    "train_dataloader = DataLoader(dataset=train_data, batch_size=batch_size, shuffle=True)\n",
    "\n",
    "test_data = Data(X_test, y_test)\n",
    "test_dataloader = DataLoader(dataset=test_data, batch_size=batch_size, shuffle=True)"
   ]
  },
  {
   "cell_type": "code",
   "execution_count": 10,
   "id": "31a06bb7",
   "metadata": {},
   "outputs": [
    {
     "name": "stdout",
     "output_type": "stream",
     "text": [
      "Epoch 1, Loss: 1.1122003954810065\n",
      "Epoch 2, Loss: 0.5841360237147357\n",
      "Epoch 3, Loss: 0.5433118013111321\n",
      "Epoch 4, Loss: 0.5168484401058506\n",
      "Epoch 5, Loss: 0.498599289236842\n",
      "Epoch 6, Loss: 0.484771117165282\n",
      "Epoch 7, Loss: 0.47425611035243886\n",
      "Epoch 8, Loss: 0.4653053372292905\n",
      "Epoch 9, Loss: 0.4582882845723951\n",
      "Epoch 10, Loss: 0.45246372996149836\n",
      "Epoch 11, Loss: 0.44696417128717575\n",
      "Epoch 12, Loss: 0.4428587781416403\n",
      "Epoch 13, Loss: 0.4375942156121537\n",
      "Epoch 14, Loss: 0.4340940568898175\n",
      "Epoch 15, Loss: 0.4303090072966911\n",
      "Epoch 16, Loss: 0.42745047082772125\n",
      "Epoch 17, Loss: 0.423780008747771\n",
      "Epoch 18, Loss: 0.4209906845479398\n",
      "Epoch 19, Loss: 0.4179265474950945\n",
      "Epoch 20, Loss: 0.4154438279770516\n",
      "Epoch 21, Loss: 0.4132449675250698\n",
      "Epoch 22, Loss: 0.41064912483498855\n",
      "Epoch 23, Loss: 0.4093926565067188\n",
      "Epoch 24, Loss: 0.4067076219094766\n",
      "Epoch 25, Loss: 0.40454185089549505\n",
      "Epoch 26, Loss: 0.4030653786014866\n",
      "Epoch 27, Loss: 0.4014244280956887\n",
      "Epoch 28, Loss: 0.3995334199956945\n",
      "Epoch 29, Loss: 0.39785576833261027\n",
      "Epoch 30, Loss: 0.396430104970932\n",
      "Epoch 31, Loss: 0.3946617527587994\n",
      "Epoch 32, Loss: 0.394090184488812\n",
      "Epoch 33, Loss: 0.3923085235260628\n",
      "Epoch 34, Loss: 0.3910312523712983\n",
      "Epoch 35, Loss: 0.3902881048821114\n",
      "Epoch 36, Loss: 0.38851856460442413\n",
      "Epoch 37, Loss: 0.3877076772419182\n",
      "Epoch 38, Loss: 0.38693559975237457\n",
      "Epoch 39, Loss: 0.3853971321840544\n",
      "Epoch 40, Loss: 0.3846710267904642\n",
      "Epoch 41, Loss: 0.38367648221351003\n",
      "Epoch 42, Loss: 0.3839784184017697\n",
      "Epoch 43, Loss: 0.3824474803499273\n",
      "Epoch 44, Loss: 0.3811302708612906\n",
      "Epoch 45, Loss: 0.38052151090389974\n",
      "Epoch 46, Loss: 0.3798967406556413\n",
      "Epoch 47, Loss: 0.3791484623341947\n",
      "Epoch 48, Loss: 0.3782923986782899\n",
      "Epoch 49, Loss: 0.37812092980823003\n",
      "Epoch 50, Loss: 0.37679479251036774\n",
      "Epoch 51, Loss: 0.3765860006615922\n",
      "Epoch 52, Loss: 0.37583209936683243\n",
      "Epoch 53, Loss: 0.3751894372540551\n",
      "Epoch 54, Loss: 0.3744878752811535\n",
      "Epoch 55, Loss: 0.37404148643081253\n",
      "Epoch 56, Loss: 0.37327109881349513\n",
      "Epoch 57, Loss: 0.372683118324022\n",
      "Epoch 58, Loss: 0.37254191733695363\n",
      "Epoch 59, Loss: 0.3719526440710635\n",
      "Epoch 60, Loss: 0.37097407676078176\n",
      "Epoch 61, Loss: 0.3702007346862071\n",
      "Epoch 62, Loss: 0.3699868418074943\n",
      "Epoch 63, Loss: 0.3703056928273794\n",
      "Epoch 64, Loss: 0.37001081334578023\n",
      "Epoch 65, Loss: 0.36923936573234767\n",
      "Epoch 66, Loss: 0.3679656692453333\n",
      "Epoch 67, Loss: 0.36765414395847834\n",
      "Epoch 68, Loss: 0.36685707520794225\n",
      "Epoch 69, Loss: 0.36751561470933863\n",
      "Epoch 70, Loss: 0.3669403799482294\n",
      "Epoch 71, Loss: 0.366279614938272\n",
      "Epoch 72, Loss: 0.3657798380465121\n",
      "Epoch 73, Loss: 0.36480802861419886\n",
      "Epoch 74, Loss: 0.3649223342135146\n",
      "Epoch 75, Loss: 0.36482120848990773\n",
      "Epoch 76, Loss: 0.36387058528693944\n",
      "Epoch 77, Loss: 0.3639059485615911\n",
      "Epoch 78, Loss: 0.36308046611579686\n",
      "Epoch 79, Loss: 0.36339226405362823\n",
      "Epoch 80, Loss: 0.3623353081780511\n",
      "Epoch 81, Loss: 0.36317709813246857\n",
      "Epoch 82, Loss: 0.3618064708000905\n",
      "Epoch 83, Loss: 0.36117607194024165\n",
      "Epoch 84, Loss: 0.36223472695092895\n",
      "Epoch 85, Loss: 0.3608995208869109\n",
      "Epoch 86, Loss: 0.359681230139088\n",
      "Epoch 87, Loss: 0.360038348146387\n",
      "Epoch 88, Loss: 0.3597821069730295\n",
      "Epoch 89, Loss: 0.35981573768564173\n",
      "Epoch 90, Loss: 0.3589994367715475\n",
      "Epoch 91, Loss: 0.35901109270147374\n",
      "Epoch 92, Loss: 0.3584360641402167\n",
      "Epoch 93, Loss: 0.3576129360778912\n",
      "Epoch 94, Loss: 0.35775552166474833\n",
      "Epoch 95, Loss: 0.3569052904038816\n",
      "Epoch 96, Loss: 0.35644504629276896\n",
      "Epoch 97, Loss: 0.3566674465263212\n",
      "Epoch 98, Loss: 0.3561704658173226\n",
      "Epoch 99, Loss: 0.3561639302485698\n",
      "Epoch 100, Loss: 0.3556851841307975\n"
     ]
    }
   ],
   "source": [
    "num_epochs = 100\n",
    "loss_values = []\n",
    "\n",
    "for epoch in range(num_epochs):\n",
    "    model.train()\n",
    "    total_loss = 0\n",
    "    for features, labels in train_dataloader:\n",
    "        # zero the parameter gradients\n",
    "        optimizer.zero_grad()\n",
    "       \n",
    "        # forward + backward + optimize\n",
    "        pred = model(features)\n",
    "        loss = criterion(pred, labels)\n",
    "        total_loss += loss.item()\n",
    "        loss_values.append(loss.item())\n",
    "        loss.backward()\n",
    "        optimizer.step()\n",
    "    \n",
    "    print(f\"Epoch {epoch + 1}, Loss: {total_loss / len(train_dataloader)}\")"
   ]
  },
  {
   "cell_type": "code",
   "execution_count": 11,
   "id": "9b47bb21",
   "metadata": {},
   "outputs": [
    {
     "data": {
      "image/png": "[encoded data removed]",
      "text/plain": [
       "<Figure size 800x500 with 1 Axes>"
      ]
     },
     "metadata": {},
     "output_type": "display_data"
    }
   ],
   "source": [
    "import matplotlib.pyplot as plt\n",
    "\n",
    "step = range(len(loss_values))\n",
    "\n",
    "fig, ax = plt.subplots(figsize=(8,5))\n",
    "plt.plot(step, np.array(loss_values))\n",
    "plt.title(\"Step-wise Loss\")\n",
    "plt.xlabel(\"Epochs\")\n",
    "plt.ylabel(\"Loss\")\n",
    "plt.ylim((0, 1))\n",
    "plt.show()"
   ]
  },
  {
   "cell_type": "markdown",
   "id": "5a6da68b",
   "metadata": {},
   "source": [
    "# Evaluate performance on validation data\n"
   ]
  },
  {
   "cell_type": "code",
   "execution_count": 12,
   "id": "52d3c9ca",
   "metadata": {},
   "outputs": [
    {
     "name": "stdout",
     "output_type": "stream",
     "text": [
      "Accuracy of the network on the test set: 85.25%\n",
      "Total predictions: 1180 (across 295 samples with 4 controls each)\n",
      "\n",
      "Per-control accuracy:\n",
      "  Forward: 77.29%\n",
      "  Backward: 92.88%\n",
      "  Left: 87.46%\n",
      "  Right: 83.39%\n"
     ]
    }
   ],
   "source": [
    "# Evaluate the model on test data\n",
    "model.eval()\n",
    "correct = 0\n",
    "total = 0\n",
    "all_predictions = []\n",
    "all_labels = []\n",
    "\n",
    "with torch.no_grad():\n",
    "    for features, labels in test_dataloader:\n",
    "        outputs = model(features)  # Get model outputs (probabilities from sigmoid)\n",
    "        \n",
    "        # Convert probabilities to binary predictions (0 or 1)\n",
    "        predicted = (outputs >= 0.6).float()\n",
    "        \n",
    "        # Calculate accuracy per element (since we have 4 outputs per sample)\n",
    "        correct += (predicted == labels).sum().item()\n",
    "        total += labels.numel()  # Total number of elements (batch_size * 4)\n",
    "        \n",
    "        # Store for later analysis if needed\n",
    "        all_predictions.append(predicted.numpy())\n",
    "        all_labels.append(labels.numpy())\n",
    "\n",
    "# Calculate overall accuracy\n",
    "accuracy = 100 * correct / total\n",
    "print(f'Accuracy of the network on the test set: {accuracy:.2f}%')\n",
    "print(f'Total predictions: {total} (across {total//4} samples with 4 controls each)')\n",
    "\n",
    "# Optionally, calculate per-control accuracy\n",
    "all_predictions = np.vstack(all_predictions)\n",
    "all_labels = np.vstack(all_labels)\n",
    "\n",
    "print(\"\\nPer-control accuracy:\")\n",
    "for i, control in enumerate(['Forward', 'Backward', 'Left', 'Right']):\n",
    "    control_correct = (all_predictions[:, i] == all_labels[:, i]).sum()\n",
    "    control_total = len(all_predictions)\n",
    "    control_accuracy = 100 * control_correct / control_total\n",
    "    print(f'  {control}: {control_accuracy:.2f}%')"
   ]
  },
  {
   "cell_type": "markdown",
   "id": "5f68fd04",
   "metadata": {},
   "source": [
    "# Save the trained model"
   ]
  },
  {
   "cell_type": "code",
   "execution_count": 13,
   "id": "7a3d3817",
   "metadata": {},
   "outputs": [
    {
     "name": "stdout",
     "output_type": "stream",
     "text": [
      "Model saved to fast_model.pth\n",
      "Checkpoint saved to fast_model_checkpoint.pth\n"
     ]
    }
   ],
   "source": [
    "# Save the trained model\n",
    "model_save_path = \"fast_model.pth\"\n",
    "torch.save(model.state_dict(), model_save_path)\n",
    "print(f\"Model saved to {model_save_path}\")\n",
    "\n",
    "# You can also save with additional info\n",
    "checkpoint = {\n",
    "    'model_state_dict': model.state_dict(),\n",
    "    'optimizer_state_dict': optimizer.state_dict(),\n",
    "    'final_loss': loss_values[-1] if loss_values else None,\n",
    "    'accuracy': accuracy\n",
    "}\n",
    "torch.save(checkpoint, \"fast_model_checkpoint.pth\")\n",
    "print(\"Checkpoint saved to fast_model_checkpoint.pth\")"
   ]
  }
 ],
 "metadata": {
  "kernelspec": {
   "display_name": ".venv",
   "language": "python",
   "name": "python3"
  },
  "language_info": {
   "codemirror_mode": {
    "name": "ipython",
    "version": 3
   },
   "file_extension": ".py",
   "mimetype": "text/x-python",
   "name": "python",
   "nbconvert_exporter": "python",
   "pygments_lexer": "ipython3",
   "version": "3.13.7"
  }
 },
 "nbformat": 4,
 "nbformat_minor": 5
}
