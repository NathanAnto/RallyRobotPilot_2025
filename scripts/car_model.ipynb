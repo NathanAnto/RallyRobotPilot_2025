{
 "cells": [
  {
   "cell_type": "code",
   "execution_count": 11,
   "id": "7f8e033d",
   "metadata": {},
   "outputs": [],
   "source": [
    "import lzma\n",
    "import pickle\n",
    "\n",
    "import torch\n",
    "from torch import nn\n",
    "from torch import optim\n",
    "from torch.utils.data import DataLoader\n",
    "import pandas as pd\n",
    "import numpy as np\n",
    "\n",
    "from sklearn.model_selection import train_test_split\n",
    "\n",
    "from neural_network import NeuralNetwork"
   ]
  },
  {
   "cell_type": "code",
   "execution_count": 12,
   "id": "c0078d8d",
   "metadata": {},
   "outputs": [
    {
     "name": "stdout",
     "output_type": "stream",
     "text": [
      "Using cpu device\n"
     ]
    }
   ],
   "source": [
    "device = torch.accelerator.current_accelerator().type if torch.accelerator.is_available() else \"cpu\"\n",
    "print(f\"Using {device} device\")"
   ]
  },
  {
   "cell_type": "markdown",
   "id": "03f30da0",
   "metadata": {},
   "source": [
    "# Load and preprocess your collected data\n"
   ]
  },
  {
   "cell_type": "code",
   "execution_count": 13,
   "id": "fe6b16b6",
   "metadata": {},
   "outputs": [
    {
     "name": "stdout",
     "output_type": "stream",
     "text": [
      "Processing file: record_0.npz with 261 snapshots\n",
      "Processing file: record_1.npz with 242 snapshots\n",
      "Processing file: record_12.npz with 457 snapshots\n",
      "Processing file: record_13.npz with 350 snapshots\n",
      "Processing file: record_14.npz with 381 snapshots\n",
      "Processing file: record_16.npz with 318 snapshots\n",
      "Processing file: record_17.npz with 585 snapshots\n",
      "Processing file: record_18.npz with 661 snapshots\n",
      "Processing file: record_19.npz with 418 snapshots\n",
      "Processing file: record_2.npz with 243 snapshots\n"
     ]
    },
    {
     "name": "stdout",
     "output_type": "stream",
     "text": [
      "Processing file: record_22.npz with 1193 snapshots\n",
      "Processing file: record_23.npz with 3090 snapshots\n",
      "Processing file: record_24.npz with 1732 snapshots\n",
      "Processing file: record_25.npz with 1013 snapshots\n",
      "Processing file: record_26.npz with 477 snapshots\n",
      "Processing file: record_3.npz with 252 snapshots\n",
      "Processing file: record_4.npz with 253 snapshots\n"
     ]
    }
   ],
   "source": [
    "from pathlib import Path\n",
    "\n",
    "snapshots = []\n",
    "\n",
    "# Get all files containing \"record_\" in the filename and ending with .npz\n",
    "records = sorted(Path(\"../\").glob(\"record_*.npz\"))\n",
    "\n",
    "for record in records:\n",
    "    try:\n",
    "        with lzma.open(record, \"rb\") as file:\n",
    "            data = pickle.load(file)\n",
    "            print(\"Processing file:\", record.name, \"with\", len(data), \"snapshots\")\n",
    "            snapshots.extend(data)\n",
    "    except Exception as e:\n",
    "        print(f\"Error processing {record.name}: {e}\")\n",
    "        continue\n"
   ]
  },
  {
   "cell_type": "code",
   "execution_count": null,
   "id": "0afe0604",
   "metadata": {},
   "outputs": [],
   "source": []
  },
  {
   "cell_type": "code",
   "execution_count": 14,
   "id": "a844d056",
   "metadata": {},
   "outputs": [],
   "source": [
    "X_scalar_list = [\n",
    "    [s.car_speed, *s.raycast_distances]\n",
    "    for s in snapshots\n",
    "]\n",
    "\n",
    "# 2. Create the list of labels (y). The original list comprehension was a bit complex.\n",
    "y_list = [s.current_controls for s in snapshots]\n",
    "\n",
    "# 3. Convert all lists to NumPy arrays with a specific data type\n",
    "features = np.array(X_scalar_list, dtype=np.float32)\n",
    "labels = np.array(y_list, dtype=np.float32)\n",
    "\n",
    "# Split into training (80%) and testing (20%)\n",
    "X_train, X_test, y_train, y_test = train_test_split(\n",
    "    features, labels, test_size=0.2, random_state=42\n",
    ")\n",
    "\n",
    "# Further split training data into training (80%) and validation (20%)\n",
    "X_train, X_val, y_train, y_val = train_test_split(\n",
    "    X_train, y_train, test_size=0.2, random_state=42\n",
    ")"
   ]
  },
  {
   "cell_type": "markdown",
   "id": "8851a1ed",
   "metadata": {},
   "source": [
    "# Define your neural network model\n"
   ]
  },
  {
   "cell_type": "code",
   "execution_count": 15,
   "id": "5203adb9",
   "metadata": {},
   "outputs": [
    {
     "data": {
      "text/plain": [
       "NeuralNetwork(\n",
       "  (flatten): Flatten(start_dim=1, end_dim=-1)\n",
       "  (linear_relu_stack): Sequential(\n",
       "    (0): Linear(in_features=16, out_features=64, bias=True)\n",
       "    (1): ReLU()\n",
       "    (2): Dropout(p=0.5, inplace=False)\n",
       "    (3): Linear(in_features=64, out_features=256, bias=True)\n",
       "    (4): ReLU()\n",
       "    (5): Dropout(p=0.5, inplace=False)\n",
       "    (6): Linear(in_features=256, out_features=128, bias=True)\n",
       "    (7): ReLU()\n",
       "    (8): Dropout(p=0.5, inplace=False)\n",
       "    (9): Linear(in_features=128, out_features=128, bias=True)\n",
       "    (10): ReLU()\n",
       "    (11): Linear(in_features=128, out_features=4, bias=True)\n",
       "  )\n",
       ")"
      ]
     },
     "execution_count": 15,
     "metadata": {},
     "output_type": "execute_result"
    }
   ],
   "source": [
    "model = NeuralNetwork().to(device)\n",
    "model"
   ]
  },
  {
   "cell_type": "markdown",
   "id": "7a2490f8",
   "metadata": {},
   "source": [
    "# Set up training loop with loss function and optimizer"
   ]
  },
  {
   "cell_type": "code",
   "execution_count": null,
   "id": "e919a70d",
   "metadata": {},
   "outputs": [],
   "source": [
    "criterion = nn.BCELoss()\n",
    "optimizer = torch.optim.AdamW(model.parameters(), lr=1e-4, weight_decay=1e-4)"
   ]
  },
  {
   "cell_type": "markdown",
   "id": "61a00cc3",
   "metadata": {},
   "source": [
    "# Train the model and save checkpoints\n"
   ]
  },
  {
   "cell_type": "code",
   "execution_count": 17,
   "id": "251cba70",
   "metadata": {},
   "outputs": [],
   "source": [
    "from torch.utils.data import Dataset\n",
    "\n",
    "class Data(Dataset):\n",
    "    # Add an 'augment' flag to the constructor\n",
    "    def __init__(self, X, y, augment=False):\n",
    "        self.features = torch.from_numpy(X.astype(np.float32))\n",
    "        self.labels = torch.from_numpy(y.astype(np.float32))\n",
    "        self.len = self.features.shape[0]\n",
    "        self.augment = augment # Store the flag\n",
    "       \n",
    "    def __getitem__(self, index):\n",
    "        features = self.features[index]\n",
    "        labels = self.labels[index]\n",
    "\n",
    "        # If augmenting, add small random noise to the features\n",
    "        if self.augment:\n",
    "            # Noise for raycasts (small variation)\n",
    "            raycast_noise = torch.randn(15) * 0.02\n",
    "            # Noise for speed (very small variation)\n",
    "            speed_noise = torch.randn(1) * 0.01\n",
    "\n",
    "            # Apply noise only to the corresponding parts of the features tensor\n",
    "            features[1:] += raycast_noise # All elements from index 1 onwards\n",
    "            features[0] += speed_noise[0] # Just the first element\n",
    "\n",
    "        return features, labels\n",
    "   \n",
    "    def __len__(self):\n",
    "        return self.len"
   ]
  },
  {
   "cell_type": "code",
   "execution_count": 18,
   "id": "e36b8ff7",
   "metadata": {},
   "outputs": [],
   "source": [
    "batch_size = 64\n",
    "\n",
    "train_data = Data(X_train, y_train, augment=True)\n",
    "train_dataloader = DataLoader(dataset=train_data, batch_size=batch_size, shuffle=True)\n",
    "\n",
    "val_data = Data(X_val, y_val)\n",
    "val_dataloader = DataLoader(dataset=val_data, batch_size=batch_size, shuffle=True)\n",
    "\n",
    "test_data = Data(X_test, y_test)\n",
    "test_dataloader = DataLoader(dataset=test_data, batch_size=batch_size, shuffle=True)"
   ]
  },
  {
   "cell_type": "code",
   "execution_count": null,
   "id": "31a06bb7",
   "metadata": {},
   "outputs": [
    {
     "ename": "RuntimeError",
     "evalue": "all elements of input should be between 0 and 1",
     "output_type": "error",
     "traceback": [
      "\u001b[31m---------------------------------------------------------------------------\u001b[39m",
      "\u001b[31mRuntimeError\u001b[39m                              Traceback (most recent call last)",
      "\u001b[36mCell\u001b[39m\u001b[36m \u001b[39m\u001b[32mIn[19]\u001b[39m\u001b[32m, line 14\u001b[39m\n\u001b[32m     12\u001b[39m optimizer.zero_grad()\n\u001b[32m     13\u001b[39m pred = model(features)\n\u001b[32m---> \u001b[39m\u001b[32m14\u001b[39m loss = \u001b[43mcriterion\u001b[49m\u001b[43m(\u001b[49m\u001b[43mpred\u001b[49m\u001b[43m,\u001b[49m\u001b[43m \u001b[49m\u001b[43mlabels\u001b[49m\u001b[43m)\u001b[49m\n\u001b[32m     15\u001b[39m total_train_loss += loss.item()\n\u001b[32m     16\u001b[39m loss.backward()\n",
      "\u001b[36mFile \u001b[39m\u001b[32m~/projects/RallyRobotPilot_2025/.venv/lib/python3.13/site-packages/torch/nn/modules/module.py:1773\u001b[39m, in \u001b[36mModule._wrapped_call_impl\u001b[39m\u001b[34m(self, *args, **kwargs)\u001b[39m\n\u001b[32m   1771\u001b[39m     \u001b[38;5;28;01mreturn\u001b[39;00m \u001b[38;5;28mself\u001b[39m._compiled_call_impl(*args, **kwargs)  \u001b[38;5;66;03m# type: ignore[misc]\u001b[39;00m\n\u001b[32m   1772\u001b[39m \u001b[38;5;28;01melse\u001b[39;00m:\n\u001b[32m-> \u001b[39m\u001b[32m1773\u001b[39m     \u001b[38;5;28;01mreturn\u001b[39;00m \u001b[38;5;28;43mself\u001b[39;49m\u001b[43m.\u001b[49m\u001b[43m_call_impl\u001b[49m\u001b[43m(\u001b[49m\u001b[43m*\u001b[49m\u001b[43margs\u001b[49m\u001b[43m,\u001b[49m\u001b[43m \u001b[49m\u001b[43m*\u001b[49m\u001b[43m*\u001b[49m\u001b[43mkwargs\u001b[49m\u001b[43m)\u001b[49m\n",
      "\u001b[36mFile \u001b[39m\u001b[32m~/projects/RallyRobotPilot_2025/.venv/lib/python3.13/site-packages/torch/nn/modules/module.py:1784\u001b[39m, in \u001b[36mModule._call_impl\u001b[39m\u001b[34m(self, *args, **kwargs)\u001b[39m\n\u001b[32m   1779\u001b[39m \u001b[38;5;66;03m# If we don't have any hooks, we want to skip the rest of the logic in\u001b[39;00m\n\u001b[32m   1780\u001b[39m \u001b[38;5;66;03m# this function, and just call forward.\u001b[39;00m\n\u001b[32m   1781\u001b[39m \u001b[38;5;28;01mif\u001b[39;00m \u001b[38;5;129;01mnot\u001b[39;00m (\u001b[38;5;28mself\u001b[39m._backward_hooks \u001b[38;5;129;01mor\u001b[39;00m \u001b[38;5;28mself\u001b[39m._backward_pre_hooks \u001b[38;5;129;01mor\u001b[39;00m \u001b[38;5;28mself\u001b[39m._forward_hooks \u001b[38;5;129;01mor\u001b[39;00m \u001b[38;5;28mself\u001b[39m._forward_pre_hooks\n\u001b[32m   1782\u001b[39m         \u001b[38;5;129;01mor\u001b[39;00m _global_backward_pre_hooks \u001b[38;5;129;01mor\u001b[39;00m _global_backward_hooks\n\u001b[32m   1783\u001b[39m         \u001b[38;5;129;01mor\u001b[39;00m _global_forward_hooks \u001b[38;5;129;01mor\u001b[39;00m _global_forward_pre_hooks):\n\u001b[32m-> \u001b[39m\u001b[32m1784\u001b[39m     \u001b[38;5;28;01mreturn\u001b[39;00m \u001b[43mforward_call\u001b[49m\u001b[43m(\u001b[49m\u001b[43m*\u001b[49m\u001b[43margs\u001b[49m\u001b[43m,\u001b[49m\u001b[43m \u001b[49m\u001b[43m*\u001b[49m\u001b[43m*\u001b[49m\u001b[43mkwargs\u001b[49m\u001b[43m)\u001b[49m\n\u001b[32m   1786\u001b[39m result = \u001b[38;5;28;01mNone\u001b[39;00m\n\u001b[32m   1787\u001b[39m called_always_called_hooks = \u001b[38;5;28mset\u001b[39m()\n",
      "\u001b[36mFile \u001b[39m\u001b[32m~/projects/RallyRobotPilot_2025/.venv/lib/python3.13/site-packages/torch/nn/modules/loss.py:706\u001b[39m, in \u001b[36mBCELoss.forward\u001b[39m\u001b[34m(self, input, target)\u001b[39m\n\u001b[32m    705\u001b[39m \u001b[38;5;28;01mdef\u001b[39;00m\u001b[38;5;250m \u001b[39m\u001b[34mforward\u001b[39m(\u001b[38;5;28mself\u001b[39m, \u001b[38;5;28minput\u001b[39m: Tensor, target: Tensor) -> Tensor:\n\u001b[32m--> \u001b[39m\u001b[32m706\u001b[39m     \u001b[38;5;28;01mreturn\u001b[39;00m \u001b[43mF\u001b[49m\u001b[43m.\u001b[49m\u001b[43mbinary_cross_entropy\u001b[49m\u001b[43m(\u001b[49m\n\u001b[32m    707\u001b[39m \u001b[43m        \u001b[49m\u001b[38;5;28;43minput\u001b[39;49m\u001b[43m,\u001b[49m\u001b[43m \u001b[49m\u001b[43mtarget\u001b[49m\u001b[43m,\u001b[49m\u001b[43m \u001b[49m\u001b[43mweight\u001b[49m\u001b[43m=\u001b[49m\u001b[38;5;28;43mself\u001b[39;49m\u001b[43m.\u001b[49m\u001b[43mweight\u001b[49m\u001b[43m,\u001b[49m\u001b[43m \u001b[49m\u001b[43mreduction\u001b[49m\u001b[43m=\u001b[49m\u001b[38;5;28;43mself\u001b[39;49m\u001b[43m.\u001b[49m\u001b[43mreduction\u001b[49m\n\u001b[32m    708\u001b[39m \u001b[43m    \u001b[49m\u001b[43m)\u001b[49m\n",
      "\u001b[36mFile \u001b[39m\u001b[32m~/projects/RallyRobotPilot_2025/.venv/lib/python3.13/site-packages/torch/nn/functional.py:3530\u001b[39m, in \u001b[36mbinary_cross_entropy\u001b[39m\u001b[34m(input, target, weight, size_average, reduce, reduction)\u001b[39m\n\u001b[32m   3527\u001b[39m     new_size = _infer_size(target.size(), weight.size())\n\u001b[32m   3528\u001b[39m     weight = weight.expand(new_size)\n\u001b[32m-> \u001b[39m\u001b[32m3530\u001b[39m \u001b[38;5;28;01mreturn\u001b[39;00m \u001b[43mtorch\u001b[49m\u001b[43m.\u001b[49m\u001b[43m_C\u001b[49m\u001b[43m.\u001b[49m\u001b[43m_nn\u001b[49m\u001b[43m.\u001b[49m\u001b[43mbinary_cross_entropy\u001b[49m\u001b[43m(\u001b[49m\u001b[38;5;28;43minput\u001b[39;49m\u001b[43m,\u001b[49m\u001b[43m \u001b[49m\u001b[43mtarget\u001b[49m\u001b[43m,\u001b[49m\u001b[43m \u001b[49m\u001b[43mweight\u001b[49m\u001b[43m,\u001b[49m\u001b[43m \u001b[49m\u001b[43mreduction_enum\u001b[49m\u001b[43m)\u001b[49m\n",
      "\u001b[31mRuntimeError\u001b[39m: all elements of input should be between 0 and 1"
     ]
    }
   ],
   "source": [
    "num_epochs = 100\n",
    "train_loss_values = []\n",
    "val_loss_values = []\n",
    "best_val_loss = float('inf')\n",
    "model_save_path = \"car_model.pth\"\n",
    "\n",
    "for epoch in range(num_epochs):\n",
    "    # --- Training Phase ---\n",
    "    model.train()\n",
    "    total_train_loss = 0\n",
    "    for features, labels in train_dataloader:\n",
    "        optimizer.zero_grad()\n",
    "        pred = model(features)\n",
    "        loss = criterion(pred, labels)\n",
    "        total_train_loss += loss.item()\n",
    "        loss.backward()\n",
    "        optimizer.step()\n",
    "    \n",
    "    avg_train_loss = total_train_loss / len(train_dataloader) \n",
    "    train_loss_values.append(avg_train_loss)\n",
    "\n",
    "    # --- Validation Phase ---\n",
    "    model.eval()\n",
    "    total_val_loss = 0\n",
    "    with torch.no_grad():\n",
    "        for features, labels in val_dataloader:\n",
    "            pred = model(features)\n",
    "            loss = criterion(pred, labels)\n",
    "            total_val_loss += loss.item()\n",
    "\n",
    "    avg_val_loss = total_val_loss / len(val_dataloader)\n",
    "    val_loss_values.append(avg_val_loss)\n",
    "\n",
    "    print(f\"Epoch {epoch + 1}/{num_epochs}, Train Loss: {avg_train_loss:.4f}, Val Loss: {avg_val_loss:.4f}\")\n",
    "\n",
    "    # Save the best model\n",
    "    if avg_val_loss < best_val_loss:\n",
    "        best_val_loss = avg_val_loss\n",
    "        torch.save(model.state_dict(), model_save_path)\n",
    "        print(f\"  -> New best model saved to {model_save_path} (Val Loss: {avg_val_loss:.4f})\")"
   ]
  },
  {
   "cell_type": "code",
   "execution_count": null,
   "id": "9b47bb21",
   "metadata": {},
   "outputs": [
    {
     "data": {
      "image/png": "[encoded data removed]",
      "text/plain": [
       "<Figure size 800x500 with 1 Axes>"
      ]
     },
     "metadata": {},
     "output_type": "display_data"
    }
   ],
   "source": [
    "import matplotlib.pyplot as plt\n",
    "\n",
    "step = range(len(train_loss_values))\n",
    "\n",
    "fig, ax = plt.subplots(figsize=(8,5))\n",
    "plt.plot(step, np.array(train_loss_values), label=\"Train Loss\")\n",
    "plt.plot(step, np.array(val_loss_values), label=\"Val Loss\")\n",
    "plt.title(\"Train/Val Step-wise Loss\")\n",
    "plt.xlabel(\"Epochs\")\n",
    "plt.ylabel(\"Loss\")\n",
    "# plt.ylim((0, 1))\n",
    "plt.legend()\n",
    "plt.show()"
   ]
  },
  {
   "cell_type": "markdown",
   "id": "5a6da68b",
   "metadata": {},
   "source": [
    "# Evaluate performance on validation data\n"
   ]
  },
  {
   "cell_type": "code",
   "execution_count": null,
   "id": "52d3c9ca",
   "metadata": {},
   "outputs": [
    {
     "name": "stdout",
     "output_type": "stream",
     "text": [
      "Finding optimal thresholds...\n",
      "\n",
      "Optimal Thresholds found:\n",
      "  Forward: 0.68 (Accuracy: 70.32%)\n",
      "  Backward: 0.58 (Accuracy: 92.86%)\n",
      "  Left: 0.48 (Accuracy: 87.70%)\n",
      "  Right: 0.47 (Accuracy: 81.38%)\n"
     ]
    },
    {
     "data": {
      "text/plain": [
       "tensor([0.6800, 0.5800, 0.4800, 0.4700])"
      ]
     },
     "execution_count": 26,
     "metadata": {},
     "output_type": "execute_result"
    }
   ],
   "source": [
    "from sklearn.metrics import accuracy_score\n",
    "\n",
    "# --- Find Optimal Thresholds on Validation Set ---\n",
    "print(\"Finding optimal thresholds...\")\n",
    "\n",
    "model.eval()\n",
    "all_val_preds = []\n",
    "all_val_labels = []\n",
    "\n",
    "with torch.no_grad():\n",
    "    for features, labels in val_dataloader:\n",
    "        # Get raw model outputs (logits)\n",
    "        logits = model(features.to(device))\n",
    "        # Apply sigmoid to get probabilities\n",
    "        probs = torch.sigmoid(logits)\n",
    "        all_val_preds.append(probs.cpu().numpy())\n",
    "        all_val_labels.append(labels.cpu().numpy())\n",
    "\n",
    "all_val_preds = np.vstack(all_val_preds)\n",
    "all_val_labels = np.vstack(all_val_labels)\n",
    "\n",
    "best_thresholds = [0.5] * 4\n",
    "best_accuracies = [0] * 4\n",
    "controls = ['Forward', 'Backward', 'Left', 'Right']\n",
    "\n",
    "# Iterate over each control\n",
    "for i in range(4):\n",
    "    # Test thresholds from 0.01 to 0.99\n",
    "    for threshold in np.arange(0.01, 1.0, 0.01):\n",
    "        # Apply threshold to get binary predictions\n",
    "        predictions = (all_val_preds[:, i] >= threshold).astype(int)\n",
    "        \n",
    "        # Calculate accuracy for this threshold\n",
    "        acc = accuracy_score(all_val_labels[:, i], predictions)\n",
    "        \n",
    "        # If this is the best accuracy so far, save it\n",
    "        if acc > best_accuracies[i]:\n",
    "            best_accuracies[i] = acc\n",
    "            best_thresholds[i] = threshold\n",
    "\n",
    "print(\"\\nOptimal Thresholds found:\")\n",
    "for i, control in enumerate(controls):\n",
    "    print(f\"  {control}: {best_thresholds[i]:.2f} (Accuracy: {best_accuracies[i]*100:.2f}%)\")\n",
    "\n",
    "# Convert to a tensor for use in the autopilot script\n",
    "optimal_thresholds_tensor = torch.tensor(best_thresholds, dtype=torch.float32).to(device)\n",
    "optimal_thresholds_tensor"
   ]
  },
  {
   "cell_type": "markdown",
   "id": "5f68fd04",
   "metadata": {},
   "source": [
    "# Save the trained model"
   ]
  },
  {
   "cell_type": "code",
   "execution_count": null,
   "id": "7a3d3817",
   "metadata": {},
   "outputs": [],
   "source": [
    "# # Save the trained model\n",
    "# model_save_path = \"car_model.pth\"\n",
    "# torch.save(model.state_dict(), model_save_path)\n",
    "# print(f\"Model saved to {model_save_path}\")\n",
    "\n",
    "# # You can also save with additional info\n",
    "# checkpoint = {\n",
    "#     'model_state_dict': model.state_dict(),\n",
    "#     'optimizer_state_dict': optimizer.state_dict(),\n",
    "#     'final_loss': train_loss_values[-1] if train_loss_values else None,\n",
    "#     'accuracy': accuracy\n",
    "# }k\n",
    "# torch.save(checkpoint, \"car_model_checkpoint.pth\")\n",
    "# print(\"Checkpoint saved to car_model_checkpoint.pth\")"
   ]
  }
 ],
 "metadata": {
  "kernelspec": {
   "display_name": ".venv",
   "language": "python",
   "name": "python3"
  },
  "language_info": {
   "codemirror_mode": {
    "name": "ipython",
    "version": 3
   },
   "file_extension": ".py",
   "mimetype": "text/x-python",
   "name": "python",
   "nbconvert_exporter": "python",
   "pygments_lexer": "ipython3",
   "version": "3.13.7"
  }
 },
 "nbformat": 4,
 "nbformat_minor": 5
}
