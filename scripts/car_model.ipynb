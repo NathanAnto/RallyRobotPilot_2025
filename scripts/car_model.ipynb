{
 "cells": [
  {
   "cell_type": "code",
   "execution_count": 41,
   "id": "7f8e033d",
   "metadata": {},
   "outputs": [],
   "source": [
    "import lzma\n",
    "import pickle\n",
    "\n",
    "import torch\n",
    "from torch import nn\n",
    "from torch import optim\n",
    "from torch.utils.data import DataLoader\n",
    "import pandas as pd\n",
    "import numpy as np\n",
    "\n",
    "from sklearn.model_selection import train_test_split\n",
    "\n",
    "from neural_network import NeuralNetwork"
   ]
  },
  {
   "cell_type": "code",
   "execution_count": 42,
   "id": "c0078d8d",
   "metadata": {},
   "outputs": [
    {
     "name": "stdout",
     "output_type": "stream",
     "text": [
      "Using cpu device\n"
     ]
    }
   ],
   "source": [
    "device = torch.accelerator.current_accelerator().type if torch.accelerator.is_available() else \"cpu\"\n",
    "print(f\"Using {device} device\")"
   ]
  },
  {
   "cell_type": "code",
   "execution_count": 43,
   "id": "8156a6ae",
   "metadata": {},
   "outputs": [],
   "source": [
    "import glob\n",
    "\n",
    "RECORD_COUNT = len(glob.glob(\"../record_*\")) "
   ]
  },
  {
   "cell_type": "markdown",
   "id": "03f30da0",
   "metadata": {},
   "source": [
    "# Load and preprocess your collected data\n"
   ]
  },
  {
   "cell_type": "code",
   "execution_count": 44,
   "id": "fe6b16b6",
   "metadata": {},
   "outputs": [
    {
     "name": "stdout",
     "output_type": "stream",
     "text": [
      "Skipping record_11.npz - file not found\n",
      "Skipping record_15.npz - file not found\n"
     ]
    }
   ],
   "source": [
    "from statistics import mean\n",
    "\n",
    "snapshots = []\n",
    "\n",
    "for i in range(RECORD_COUNT):\n",
    "    try:\n",
    "        with lzma.open(f\"../record_{i}.npz\", \"rb\") as file:\n",
    "            data = pickle.load(file)\n",
    "            snapshots = snapshots + data\n",
    "    except FileNotFoundError:\n",
    "        print(f\"Skipping record_{i}.npz - file not found\")\n",
    "    except Exception as e:\n",
    "        print(f\"Error processing record_{i}.npz: {e}\")\n",
    "        continue"
   ]
  },
  {
   "cell_type": "markdown",
   "id": "d1a28751",
   "metadata": {},
   "source": [
    "# Helper functions for contextual analysis"
   ]
  },
  {
   "cell_type": "code",
   "execution_count": 45,
   "id": "bd179de8",
   "metadata": {},
   "outputs": [],
   "source": [
    "def get_window(data, index, window_size=3):\n",
    "    \"\"\"Get previous and next snapshots around the given index\"\"\"\n",
    "    start = max(0, index - window_size)\n",
    "    end = min(len(data), index + window_size + 1)\n",
    "    \n",
    "    prev_snapshots = data[start:index] if index > 0 else []\n",
    "    next_snapshots = data[index + 1:end] if index < len(data) - 1 else []\n",
    "    \n",
    "    return prev_snapshots, next_snapshots\n",
    "\n",
    "def should_be_slow_snapshot(snapshot, prev_snapshots, next_snapshots):\n",
    "    \"\"\"Determine if this snapshot should be classified as 'slow' based on context\"\"\"\n",
    "    # Current state\n",
    "    current_speed = snapshot.car_speed\n",
    "    min_distance = min(snapshot.raycast_distances)\n",
    "    is_turning = snapshot.current_controls[2] or snapshot.current_controls[3]  # left or right\n",
    "    \n",
    "    # Analyze previous behavior (if available)\n",
    "    is_decelerating = False\n",
    "    if prev_snapshots:\n",
    "        speed_trend = [s.car_speed for s in prev_snapshots + [snapshot]]\n",
    "        is_decelerating = any(a > b for a, b in zip(speed_trend, speed_trend[1:]))\n",
    "    \n",
    "    # Analyze upcoming conditions (if available)\n",
    "    approaching_obstacle = False\n",
    "    upcoming_turn = False\n",
    "    if next_snapshots:\n",
    "        future_distances = [min(s.raycast_distances) for s in next_snapshots]\n",
    "        approaching_obstacle = any(d < 30 for d in future_distances)\n",
    "        \n",
    "        # Check if turning in near future\n",
    "        future_controls = [s.current_controls for s in next_snapshots]\n",
    "        upcoming_turn = any(c[2] or c[3] for c in future_controls)  # any left or right controls\n",
    "    \n",
    "    # Classification rules\n",
    "    return any([\n",
    "        current_speed > 25,  # Current speed is high\n",
    "        # min_distance < 20,   # Close to obstacle\n",
    "        is_turning,         # Currently turning\n",
    "        is_decelerating,    # Actively slowing down\n",
    "        approaching_obstacle,# Obstacle ahead\n",
    "        upcoming_turn       # Turn coming up\n",
    "    ])"
   ]
  },
  {
   "cell_type": "code",
   "execution_count": 46,
   "id": "e36038a2",
   "metadata": {},
   "outputs": [],
   "source": [
    "# all_snapshots = []\n",
    "\n",
    "# # First, collect all snapshots\n",
    "# for i in range(RECORD_COUNT):\n",
    "#     try:\n",
    "#         with lzma.open(f\"../record_{i}.npz\", \"rb\") as file:\n",
    "#             data = pickle.load(file)\n",
    "#             print(f\"Processing record_{i}\")\n",
    "#             all_snapshots.extend(data)\n",
    "#     except FileNotFoundError:\n",
    "#         print(f\"Skipping record_{i}.npz - file not found\")\n",
    "#     except Exception as e:\n",
    "#         print(f\"Error processing record_{i}.npz: {e}\")\n",
    "#         continue\n",
    "\n",
    "# # Now analyze each snapshot with context\n",
    "# snapshots = []\n",
    "# for i in range(len(all_snapshots)):\n",
    "#     snapshot = all_snapshots[i]\n",
    "#     prev_snapshots, next_snapshots = get_window(all_snapshots, i)\n",
    "    \n",
    "#     if should_be_slow_snapshot(snapshot, prev_snapshots, next_snapshots):\n",
    "#         snapshots.append(snapshot)\n",
    "\n",
    "# print(f\"\\nTotal snapshots collected: {len(all_snapshots)}\")\n",
    "# print(f\"Snapshots classified as 'slow': {len(snapshots)}\")\n",
    "# print(f\"Percentage of slow snapshots: {100 * len(snapshots) / len(all_snapshots):.2f}%\")"
   ]
  },
  {
   "cell_type": "code",
   "execution_count": 47,
   "id": "a844d056",
   "metadata": {},
   "outputs": [],
   "source": [
    "X_scalar_list = [\n",
    "    [s.car_speed, *s.raycast_distances]\n",
    "    for s in snapshots\n",
    "]\n",
    "\n",
    "# 2. Create the list of labels (y). The original list comprehension was a bit complex.\n",
    "y_list = [s.current_controls for s in snapshots]\n",
    "\n",
    "# 3. Convert all lists to NumPy arrays with a specific data type\n",
    "features = np.array(X_scalar_list, dtype=np.float32)\n",
    "labels = np.array(y_list, dtype=np.float32)\n",
    "\n",
    "X_train, X_test, y_train, y_test = train_test_split(features, labels, test_size=0.2, random_state=42)"
   ]
  },
  {
   "cell_type": "markdown",
   "id": "8851a1ed",
   "metadata": {},
   "source": [
    "# Define your neural network model\n"
   ]
  },
  {
   "cell_type": "code",
   "execution_count": 48,
   "id": "5203adb9",
   "metadata": {},
   "outputs": [
    {
     "data": {
      "text/plain": [
       "NeuralNetwork(\n",
       "  (flatten): Flatten(start_dim=1, end_dim=-1)\n",
       "  (linear_relu_stack): Sequential(\n",
       "    (0): Linear(in_features=16, out_features=64, bias=True)\n",
       "    (1): ReLU()\n",
       "    (2): Linear(in_features=64, out_features=32, bias=True)\n",
       "    (3): ReLU()\n",
       "    (4): Linear(in_features=32, out_features=4, bias=True)\n",
       "    (5): Sigmoid()\n",
       "  )\n",
       ")"
      ]
     },
     "execution_count": 48,
     "metadata": {},
     "output_type": "execute_result"
    }
   ],
   "source": [
    "model = NeuralNetwork().to(device)\n",
    "model"
   ]
  },
  {
   "cell_type": "markdown",
   "id": "7a2490f8",
   "metadata": {},
   "source": [
    "# Set up training loop with loss function and optimizer"
   ]
  },
  {
   "cell_type": "code",
   "execution_count": 49,
   "id": "e919a70d",
   "metadata": {},
   "outputs": [],
   "source": [
    "criterion = nn.BCELoss()\n",
    "optimizer = torch.optim.Adam(model.parameters(), lr=10e-3)\n",
    "\n",
    "# Look for Dropout (50%)"
   ]
  },
  {
   "cell_type": "markdown",
   "id": "61a00cc3",
   "metadata": {},
   "source": [
    "# Train the model and save checkpoints\n"
   ]
  },
  {
   "cell_type": "code",
   "execution_count": 50,
   "id": "251cba70",
   "metadata": {},
   "outputs": [],
   "source": [
    "from torch.utils.data import Dataset\n",
    "\n",
    "class Data(Dataset):\n",
    "    def __init__(self, X, y):\n",
    "        self.features = torch.from_numpy(X.astype(np.float32))\n",
    "        self.labels = torch.from_numpy(y.astype(np.float32))  # Changed from int32 to float32\n",
    "        self.len = self.features.shape[0]\n",
    "       \n",
    "    def __getitem__(self, index):\n",
    "        return self.features[index], self.labels[index]\n",
    "   \n",
    "    def __len__(self):\n",
    "        return self.len"
   ]
  },
  {
   "cell_type": "code",
   "execution_count": 51,
   "id": "e36b8ff7",
   "metadata": {},
   "outputs": [],
   "source": [
    "batch_size = 32\n",
    "\n",
    "train_data = Data(X_train, y_train)\n",
    "train_dataloader = DataLoader(dataset=train_data, batch_size=batch_size, shuffle=True)\n",
    "\n",
    "test_data = Data(X_test, y_test)\n",
    "test_dataloader = DataLoader(dataset=test_data, batch_size=batch_size, shuffle=True)"
   ]
  },
  {
   "cell_type": "code",
   "execution_count": 52,
   "id": "31a06bb7",
   "metadata": {},
   "outputs": [
    {
     "name": "stdout",
     "output_type": "stream",
     "text": [
      "Epoch 1, Loss: 0.42739557588504534\n",
      "Epoch 2, Loss: 0.3929492833755784\n",
      "Epoch 3, Loss: 0.389512365652343\n",
      "Epoch 4, Loss: 0.38630489297842574\n",
      "Epoch 5, Loss: 0.38313260245121133\n",
      "Epoch 6, Loss: 0.3804176492711245\n",
      "Epoch 7, Loss: 0.3804835813530421\n",
      "Epoch 8, Loss: 0.37748534952179863\n",
      "Epoch 9, Loss: 0.3748312025504597\n",
      "Epoch 10, Loss: 0.37809429077778833\n",
      "Epoch 11, Loss: 0.37175590330261293\n",
      "Epoch 12, Loss: 0.37588364870871527\n",
      "Epoch 13, Loss: 0.3684596299367436\n",
      "Epoch 14, Loss: 0.36764304163092276\n",
      "Epoch 15, Loss: 0.3708096341056339\n",
      "Epoch 16, Loss: 0.3710175204580113\n",
      "Epoch 17, Loss: 0.3732062055397842\n",
      "Epoch 18, Loss: 0.368554744427487\n",
      "Epoch 19, Loss: 0.3729319554769387\n",
      "Epoch 20, Loss: 0.36944284151166173\n",
      "Epoch 21, Loss: 0.36866170268947795\n",
      "Epoch 22, Loss: 0.36605022948677257\n",
      "Epoch 23, Loss: 0.36766707164756324\n",
      "Epoch 24, Loss: 0.3656268180426905\n",
      "Epoch 25, Loss: 0.36528338870759736\n",
      "Epoch 26, Loss: 0.36559801081479604\n",
      "Epoch 27, Loss: 0.36147788116487406\n",
      "Epoch 28, Loss: 0.362606882038763\n",
      "Epoch 29, Loss: 0.3620214442075309\n",
      "Epoch 30, Loss: 0.36340546064962775\n",
      "Epoch 31, Loss: 0.3634585440158844\n",
      "Epoch 32, Loss: 0.3646971871287136\n",
      "Epoch 33, Loss: 0.36041661137241426\n",
      "Epoch 34, Loss: 0.36240596362089705\n",
      "Epoch 35, Loss: 0.36505411767353446\n",
      "Epoch 36, Loss: 0.3613831326365471\n",
      "Epoch 37, Loss: 0.36223895468954315\n",
      "Epoch 38, Loss: 0.3605374336495238\n",
      "Epoch 39, Loss: 0.36009564894740864\n",
      "Epoch 40, Loss: 0.36115621914297846\n",
      "Epoch 41, Loss: 0.36035783790935905\n",
      "Epoch 42, Loss: 0.36148494987164514\n",
      "Epoch 43, Loss: 0.36339956256797756\n",
      "Epoch 44, Loss: 0.3636581655276024\n",
      "Epoch 45, Loss: 0.35768194143044746\n",
      "Epoch 46, Loss: 0.3588297094328929\n",
      "Epoch 47, Loss: 0.3561783655215118\n",
      "Epoch 48, Loss: 0.3551107998621666\n",
      "Epoch 49, Loss: 0.358652422488746\n",
      "Epoch 50, Loss: 0.3628582936727395\n",
      "Epoch 51, Loss: 0.3577950007076991\n",
      "Epoch 52, Loss: 0.36135257578502267\n",
      "Epoch 53, Loss: 0.35776689143504126\n",
      "Epoch 54, Loss: 0.3611088531502223\n",
      "Epoch 55, Loss: 0.3590718065783129\n",
      "Epoch 56, Loss: 0.35859393227403447\n",
      "Epoch 57, Loss: 0.35798984058832717\n",
      "Epoch 58, Loss: 0.3565231281316886\n",
      "Epoch 59, Loss: 0.35996208807169383\n",
      "Epoch 60, Loss: 0.35508365676564685\n",
      "Epoch 61, Loss: 0.3577615638910714\n",
      "Epoch 62, Loss: 0.36081749731201235\n",
      "Epoch 63, Loss: 0.35613101240942036\n",
      "Epoch 64, Loss: 0.35770105330620783\n",
      "Epoch 65, Loss: 0.35667166669489975\n",
      "Epoch 66, Loss: 0.3579771854614807\n",
      "Epoch 67, Loss: 0.35393554123781495\n",
      "Epoch 68, Loss: 0.3560916533914663\n",
      "Epoch 69, Loss: 0.3610912217932232\n",
      "Epoch 70, Loss: 0.35562406934924046\n",
      "Epoch 71, Loss: 0.3533752804337922\n",
      "Epoch 72, Loss: 0.3512209547778307\n",
      "Epoch 73, Loss: 0.35500312647071935\n",
      "Epoch 74, Loss: 0.35793855874720265\n",
      "Epoch 75, Loss: 0.3562671953843812\n",
      "Epoch 76, Loss: 0.3558603206933555\n",
      "Epoch 77, Loss: 0.3529045052700124\n",
      "Epoch 78, Loss: 0.3541570696032653\n",
      "Epoch 79, Loss: 0.3551926971492121\n",
      "Epoch 80, Loss: 0.3540115982799207\n",
      "Epoch 81, Loss: 0.35325936960466836\n",
      "Epoch 82, Loss: 0.35002159150475165\n",
      "Epoch 83, Loss: 0.35240272369425174\n",
      "Epoch 84, Loss: 0.3594469502568245\n",
      "Epoch 85, Loss: 0.35407163632118094\n",
      "Epoch 86, Loss: 0.3538529624120664\n",
      "Epoch 87, Loss: 0.35711670174437055\n",
      "Epoch 88, Loss: 0.35668367501032555\n",
      "Epoch 89, Loss: 0.35240122663267587\n",
      "Epoch 90, Loss: 0.35641167439141513\n",
      "Epoch 91, Loss: 0.3553252904596975\n",
      "Epoch 92, Loss: 0.3518509718321137\n",
      "Epoch 93, Loss: 0.353181928396225\n",
      "Epoch 94, Loss: 0.3515160899546187\n",
      "Epoch 95, Loss: 0.35222479322199096\n",
      "Epoch 96, Loss: 0.3533306730500722\n",
      "Epoch 97, Loss: 0.350583824060731\n",
      "Epoch 98, Loss: 0.35420058894965606\n",
      "Epoch 99, Loss: 0.3589540438379272\n",
      "Epoch 100, Loss: 0.3492560425804833\n"
     ]
    }
   ],
   "source": [
    "num_epochs = 100\n",
    "train_loss_values = []\n",
    "\n",
    "for epoch in range(num_epochs):\n",
    "    model.train()\n",
    "    total_loss = 0\n",
    "    for features, labels in train_dataloader:\n",
    "        # zero the parameter gradients\n",
    "        optimizer.zero_grad()\n",
    "       \n",
    "        # forward + backward + optimize\n",
    "        pred = model(features)\n",
    "        loss = criterion(pred, labels)\n",
    "        total_loss += loss.item()\n",
    "        train_loss_values.append(loss.item())\n",
    "        loss.backward()\n",
    "        optimizer.step()\n",
    "    \n",
    "    print(f\"Epoch {epoch + 1}, Loss: {total_loss / len(train_dataloader)}\")"
   ]
  },
  {
   "cell_type": "code",
   "execution_count": 53,
   "id": "9b47bb21",
   "metadata": {},
   "outputs": [
    {
     "data": {
      "image/png": "[encoded data removed]",
      "text/plain": [
       "<Figure size 800x500 with 1 Axes>"
      ]
     },
     "metadata": {},
     "output_type": "display_data"
    }
   ],
   "source": [
    "import matplotlib.pyplot as plt\n",
    "\n",
    "step = range(len(train_loss_values))\n",
    "\n",
    "fig, ax = plt.subplots(figsize=(8,5))\n",
    "plt.plot(step, np.array(train_loss_values))\n",
    "plt.title(\"Train Step-wise Loss\")\n",
    "plt.xlabel(\"Epochs\")\n",
    "plt.ylabel(\"Loss\")\n",
    "plt.ylim((0, 1))\n",
    "plt.show()"
   ]
  },
  {
   "cell_type": "markdown",
   "id": "5a6da68b",
   "metadata": {},
   "source": [
    "# Evaluate performance on validation data\n"
   ]
  },
  {
   "cell_type": "code",
   "execution_count": 54,
   "id": "52d3c9ca",
   "metadata": {},
   "outputs": [
    {
     "name": "stdout",
     "output_type": "stream",
     "text": [
      "Accuracy of the network on the test set: 82.07%\n",
      "Total predictions: 3764 (across 941 samples with 4 controls each)\n",
      "\n",
      "Per-control accuracy:\n",
      "  Forward: 69.93%\n",
      "  Backward: 94.37%\n",
      "  Left: 87.35%\n",
      "  Right: 76.62%\n"
     ]
    }
   ],
   "source": [
    "# Evaluate the model on test data\n",
    "model.eval()\n",
    "correct = 0\n",
    "total = 0\n",
    "loss = 0.0\n",
    "test_loss_values = []\n",
    "all_predictions = []\n",
    "all_labels = []\n",
    "\n",
    "with torch.no_grad():\n",
    "    for features, labels in test_dataloader:\n",
    "        outputs = model(features)  # Get model outputs (probabilities from sigmoid)\n",
    "        \n",
    "        # Convert probabilities to binary predictions (0 or 1)\n",
    "        predicted = (outputs >= 0.5).float()\n",
    "        \n",
    "        # Calculate accuracy per element (since we have 4 outputs per sample)\n",
    "        correct += (predicted == labels).sum().item()\n",
    "        total += labels.numel()  # Total number of elements (batch_size * 4)\n",
    "        test_loss_values.append(criterion(outputs, labels).item())\n",
    "        loss += criterion(outputs, labels).item()\n",
    "\n",
    "        # Store for later analysis if needed\n",
    "        all_predictions.append(predicted.numpy())\n",
    "        all_labels.append(labels.numpy())\n",
    "\n",
    "# Calculate overall accuracy\n",
    "accuracy = 100 * correct / total\n",
    "print(f'Accuracy of the network on the test set: {accuracy:.2f}%')\n",
    "print(f'Total predictions: {total} (across {total//4} samples with 4 controls each)')\n",
    "\n",
    "# Optionally, calculate per-control accuracy\n",
    "all_predictions = np.vstack(all_predictions)\n",
    "all_labels = np.vstack(all_labels)\n",
    "\n",
    "print(\"\\nPer-control accuracy:\")\n",
    "for i, control in enumerate(['Forward', 'Backward', 'Left', 'Right']):\n",
    "    control_correct = (all_predictions[:, i] == all_labels[:, i]).sum()\n",
    "    control_total = len(all_predictions)\n",
    "    control_accuracy = 100 * control_correct / control_total\n",
    "    print(f'  {control}: {control_accuracy:.2f}%')"
   ]
  },
  {
   "cell_type": "code",
   "execution_count": 55,
   "id": "a9d596de",
   "metadata": {},
   "outputs": [
    {
     "data": {
      "image/png": "[encoded data removed]",
      "text/plain": [
       "<Figure size 800x500 with 1 Axes>"
      ]
     },
     "metadata": {},
     "output_type": "display_data"
    }
   ],
   "source": [
    "import matplotlib.pyplot as plt\n",
    "\n",
    "step = range(len(test_loss_values))\n",
    "\n",
    "fig, ax = plt.subplots(figsize=(8,5))\n",
    "plt.plot(step, np.array(test_loss_values), label='Test Loss')\n",
    "plt.title(\"Test Step-wise Loss\")\n",
    "plt.xlabel(\"Epochs\")\n",
    "plt.ylabel(\"Loss\")\n",
    "plt.ylim((0, 1))\n",
    "plt.legend()\n",
    "plt.show()"
   ]
  },
  {
   "cell_type": "markdown",
   "id": "5f68fd04",
   "metadata": {},
   "source": [
    "# Save the trained model"
   ]
  },
  {
   "cell_type": "code",
   "execution_count": 56,
   "id": "7a3d3817",
   "metadata": {},
   "outputs": [
    {
     "name": "stdout",
     "output_type": "stream",
     "text": [
      "Model saved to car_model.pth\n",
      "Checkpoint saved to car_model_checkpoint.pth\n"
     ]
    }
   ],
   "source": [
    "# Save the trained model\n",
    "model_save_path = \"car_model.pth\"\n",
    "torch.save(model.state_dict(), model_save_path)\n",
    "print(f\"Model saved to {model_save_path}\")\n",
    "\n",
    "# You can also save with additional info\n",
    "checkpoint = {\n",
    "    'model_state_dict': model.state_dict(),\n",
    "    'optimizer_state_dict': optimizer.state_dict(),\n",
    "    'final_loss': train_loss_values[-1] if train_loss_values else None,\n",
    "    'accuracy': accuracy\n",
    "}\n",
    "torch.save(checkpoint, \"car_model_checkpoint.pth\")\n",
    "print(\"Checkpoint saved to car_model_checkpoint.pth\")"
   ]
  }
 ],
 "metadata": {
  "kernelspec": {
   "display_name": ".venv",
   "language": "python",
   "name": "python3"
  },
  "language_info": {
   "codemirror_mode": {
    "name": "ipython",
    "version": 3
   },
   "file_extension": ".py",
   "mimetype": "text/x-python",
   "name": "python",
   "nbconvert_exporter": "python",
   "pygments_lexer": "ipython3",
   "version": "3.13.7"
  }
 },
 "nbformat": 4,
 "nbformat_minor": 5
}
